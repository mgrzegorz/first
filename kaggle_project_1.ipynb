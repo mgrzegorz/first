{
  "nbformat": 4,
  "nbformat_minor": 0,
  "metadata": {
    "colab": {
      "name": "kaggle_project_1.ipynb",
      "version": "0.3.2",
      "provenance": [],
      "collapsed_sections": [],
      "include_colab_link": true
    },
    "kernelspec": {
      "name": "python3",
      "display_name": "Python 3"
    },
    "accelerator": "GPU"
  },
  "cells": [
    {
      "cell_type": "markdown",
      "metadata": {
        "id": "view-in-github",
        "colab_type": "text"
      },
      "source": [
        "<a href=\"https://colab.research.google.com/github/mgrzegorz/first/blob/master/kaggle_project_1.ipynb\" target=\"_parent\"><img src=\"https://colab.research.google.com/assets/colab-badge.svg\" alt=\"Open In Colab\"/></a>"
      ]
    },
    {
      "metadata": {
        "id": "WEts5fIsdK_a",
        "colab_type": "text"
      },
      "cell_type": "markdown",
      "source": [
        "## Mounting Google Drive"
      ]
    },
    {
      "metadata": {
        "id": "iwj6Dy7fo3h1",
        "colab_type": "code",
        "colab": {
          "base_uri": "https://localhost:8080/",
          "height": 69
        },
        "outputId": "3687656e-7e1b-4c0f-d2f4-810d22c6c5ba"
      },
      "cell_type": "code",
      "source": [
        "!pip install sklearn"
      ],
      "execution_count": 228,
      "outputs": [
        {
          "output_type": "stream",
          "text": [
            "Collecting sklearn==0.20.1\n",
            "\u001b[31m  Could not find a version that satisfies the requirement sklearn==0.20.1 (from versions: 0.0)\u001b[0m\n",
            "\u001b[31mNo matching distribution found for sklearn==0.20.1\u001b[0m\n"
          ],
          "name": "stdout"
        }
      ]
    },
    {
      "metadata": {
        "id": "eqsxOlFVc-tg",
        "colab_type": "code",
        "outputId": "f6766300-84b4-44ec-cffd-8af220a47b78",
        "colab": {
          "base_uri": "https://localhost:8080/",
          "height": 34
        }
      },
      "cell_type": "code",
      "source": [
        "from google.colab import drive\n",
        "drive.mount('/content/gdrive')\n"
      ],
      "execution_count": 129,
      "outputs": [
        {
          "output_type": "stream",
          "text": [
            "Drive already mounted at /content/gdrive; to attempt to forcibly remount, call drive.mount(\"/content/gdrive\", force_remount=True).\n"
          ],
          "name": "stdout"
        }
      ]
    },
    {
      "metadata": {
        "id": "sM7BsMGBDikg",
        "colab_type": "code",
        "colab": {}
      },
      "cell_type": "code",
      "source": [
        "import numpy as np\n",
        "import pandas as pd\n",
        "import os"
      ],
      "execution_count": 0,
      "outputs": []
    },
    {
      "metadata": {
        "id": "4wU-bEwSdeGF",
        "colab_type": "code",
        "colab": {}
      },
      "cell_type": "code",
      "source": [
        "# zmiana working directory\n",
        "os.chdir(\"/content/gdrive/My Drive/Data/Elo/\")"
      ],
      "execution_count": 0,
      "outputs": []
    },
    {
      "metadata": {
        "id": "C9bEXDuAmCGv",
        "colab_type": "code",
        "colab": {}
      },
      "cell_type": "code",
      "source": [
        "#source: https://stackoverflow.com/questions/48750199/google-colaboratory-misleading-information-about-its-gpu-only-5-ram-available\n",
        "!ln -sf /opt/bin/nvidia-smi /usr/bin/nvidia-smi\n",
        "!pip install gputil\n",
        "!pip install psutil\n",
        "!pip install humanize\n",
        "import psutil\n",
        "import humanize\n",
        "import os\n",
        "import GPUtil as GPU\n",
        "GPUs = GPU.getGPUs()\n",
        "#XXX: only one GPU on Colab and isn’t guaranteed\n",
        "gpu = GPUs[0]\n",
        "def printm():\n",
        "  process = psutil.Process(os.getpid())\n",
        "  print(\"Gen RAM Free: \" + humanize.naturalsize(psutil.virtual_memory().available), \" | Proc size: \" + humanize.naturalsize(process.memory_info().rss))\n",
        "  print(\"GPU RAM Free: {0:.0f}MB | Used: {1:.0f}MB | Util {2:3.0f}% | Total {3:.0f}MB\".format(gpu.memoryFree, gpu.memoryUsed, gpu.memoryUtil*100, gpu.memoryTotal))\n",
        "printm()"
      ],
      "execution_count": 0,
      "outputs": []
    },
    {
      "metadata": {
        "id": "LySCldXEeZOk",
        "colab_type": "code",
        "colab": {
          "base_uri": "https://localhost:8080/",
          "height": 34
        },
        "outputId": "061999f2-366c-4681-9970-ef91cf42ca4a"
      },
      "cell_type": "code",
      "source": [
        "#%reset"
      ],
      "execution_count": 184,
      "outputs": [
        {
          "output_type": "stream",
          "text": [
            "Once deleted, variables cannot be recovered. Proceed (y/[n])? y\n"
          ],
          "name": "stdout"
        }
      ]
    },
    {
      "metadata": {
        "id": "SX2Q6coVf1sM",
        "colab_type": "code",
        "colab": {}
      },
      "cell_type": "code",
      "source": [
        "!pip install -U -q kaggle\n",
        "!mkdir -p ~/.kaggle"
      ],
      "execution_count": 0,
      "outputs": []
    },
    {
      "metadata": {
        "id": "IU-glxh2hJ6q",
        "colab_type": "code",
        "colab": {}
      },
      "cell_type": "code",
      "source": [
        "from google.colab import files\n",
        "files.upload()"
      ],
      "execution_count": 0,
      "outputs": []
    },
    {
      "metadata": {
        "id": "FBurfMMEhnsP",
        "colab_type": "code",
        "colab": {}
      },
      "cell_type": "code",
      "source": [
        "!cp kaggle.json ~/.kaggle/"
      ],
      "execution_count": 0,
      "outputs": []
    },
    {
      "metadata": {
        "id": "Xo09Sn8Yknoi",
        "colab_type": "code",
        "colab": {}
      },
      "cell_type": "code",
      "source": [
        "!chmod 600 /root/.kaggle/kaggle.json"
      ],
      "execution_count": 0,
      "outputs": []
    },
    {
      "metadata": {
        "id": "h-NF_nXoiATm",
        "colab_type": "code",
        "outputId": "60a85d89-dca6-487c-ff39-83815b0e58a2",
        "colab": {
          "base_uri": "https://localhost:8080/",
          "height": 34
        }
      },
      "cell_type": "code",
      "source": [
        "!kaggle competitions download -c elo-merchant-category-recommendation -p /content/gdrive/My\\ Drive/Data"
      ],
      "execution_count": 0,
      "outputs": [
        {
          "output_type": "stream",
          "text": [
            "/bin/bash: kaggle: command not found\n"
          ],
          "name": "stdout"
        }
      ]
    },
    {
      "metadata": {
        "id": "JtmlS2MOZ4Hn",
        "colab_type": "code",
        "colab": {}
      },
      "cell_type": "code",
      "source": [
        "merchants_types = {\n",
        "  'merchant_group_id': 'uint32',\n",
        "  'merchant_category_id':'int16',\n",
        "  'city_id': 'int16',\n",
        "  'state_id': 'int8',\n",
        "  'subsector_id': 'int8',\n",
        "  'numerical_1': 'float16',\n",
        "  'numerical_2': 'float16',\n",
        "  'category_1': 'category', #bool_,\n",
        "  'category_2': 'category',\n",
        "  'category_4': 'category',   \n",
        "  'most_recent_sales_range': 'category',\n",
        "  'most_recent_purchases_range': 'category',\n",
        "  'avg_sales_lag3': 'float32',\n",
        "  'avg_purchases_lag3': 'float32',\n",
        "  'active_months_lag3': 'float16',\n",
        "  'avg_sales_lag6': 'float32',\n",
        "  'avg_purchases_lag6': 'float32',\n",
        "  'active_months_lag6': 'float16',\n",
        "  'avg_sales_lag12': 'float32',\n",
        "  'avg_purchases_lag12': 'float32',\n",
        "  'active_months_lag12': 'float16'\n",
        " }\n",
        "types_new_merchant_transactions = {\n",
        "  'merchant_id':'object',\n",
        "  'authorized_flag':'category',\n",
        "  'city_id': 'int16',\n",
        "  'state_id': 'int8',    \n",
        "  'subsector_id': 'int8',\n",
        "  'category_1': 'category',\n",
        "  'category_2': 'category',\n",
        "  'category_3': 'category',\n",
        "  'installments': 'int16',\n",
        "  'merchant_category_id': 'int16',\n",
        "  'month_lag': 'int8', #1,2 \n",
        "  'purchase_amount': 'float32',\n",
        "  'purchase_date': 'object'}\n",
        "types_historical_transactions = {\n",
        "  'authorized_flag':'category',\n",
        "  'city_id': 'int16',\n",
        "  'state_id': 'int8',\n",
        "  'subsector_id': 'int8',\n",
        "  'category_1': 'category',\n",
        "  'category_2': 'category',\n",
        "  'category_3': 'category',    \n",
        "  'installments': 'int16',\n",
        "  'merchant_category_id': 'int16',     \n",
        "  'merchant_id':'object',\n",
        "  'month_lag': 'int8',   \n",
        "  'purchase_amount': 'float32',\n",
        "  'purchase_date': 'object'\n",
        "}\n",
        "types_train ={\n",
        "    'first_active_month':'object',\n",
        "    'feature_1': 'uint8',\n",
        "    'feature_2': 'uint8',\n",
        "    'feature_3': 'bool_',\n",
        "    'target': 'float16'\n",
        "}\n",
        "types_test ={\n",
        "    'first_active_month':'object',\n",
        "    'feature_1': 'uint8',\n",
        "    'feature_2': 'uint8',\n",
        "    'feature_3': 'bool_'\n",
        "}"
      ],
      "execution_count": 0,
      "outputs": []
    },
    {
      "metadata": {
        "id": "xXYCLGqNl81T",
        "colab_type": "code",
        "colab": {}
      },
      "cell_type": "code",
      "source": [
        "#new_merchant_transactions = pd.read_csv(\"new_merchant_transactions.csv\", index_col = 'car_id', dtype=types_new_merchant_transactions)\n",
        "#new_merchant_transactions['purchase_date'] = pd.to_datetime(new_merchant_transactions['purchase_date'], unit='ns')\n",
        "#historical_transactions = pd.read_csv(\"historical_transactions.csv\", index_col = 'card_id', dtype=types_historical_transactions)\n",
        "#historical_transactions['purchase_date'] = pd.to_datetime(historical_transactions['purchase_date'], unit='ns')\n",
        "#train = pd.read_csv(\"train.csv\", index_col = 'card_id', dtype = types_train)\n",
        "#train['first_active_month'] = pd.to_datetime(train['first_active_month'])\n",
        "#test = pd.read_csv(\"test.csv\", index_col = 'card_id', dtype = types_test)\n",
        "#test['first_active_month'] = pd.to_datetime(test['first_active_month'])"
      ],
      "execution_count": 0,
      "outputs": []
    },
    {
      "metadata": {
        "id": "Ui1aZARpcxLV",
        "colab_type": "code",
        "colab": {}
      },
      "cell_type": "code",
      "source": [
        "merchants = pd.read_csv(\"merchants.csv\", index_col='merchant_id', dtype = merchants_types)\n",
        "merchants = pd.get_dummies(merchants, columns = ['category_1', 'category_2', 'category_4', 'state_id'])\n",
        "merchants['most_recent_purchases_range'] = merchants['most_recent_purchases_range'].cat.codes #ordinal\n",
        "merchants['most_recent_sales_range'] = merchants['most_recent_sales_range'].cat.codes         #ordinal"
      ],
      "execution_count": 0,
      "outputs": []
    },
    {
      "metadata": {
        "id": "xExchDvqEl5l",
        "colab_type": "code",
        "colab": {}
      },
      "cell_type": "code",
      "source": [
        "df = pd.merge(train, historical_transactions, on='card_id', how='left')"
      ],
      "execution_count": 0,
      "outputs": []
    },
    {
      "metadata": {
        "id": "ROWyEK1Mvf6C",
        "colab_type": "code",
        "colab": {}
      },
      "cell_type": "code",
      "source": [
        ""
      ],
      "execution_count": 0,
      "outputs": []
    },
    {
      "metadata": {
        "id": "Reo-v3o_sa8H",
        "colab_type": "code",
        "colab": {
          "base_uri": "https://localhost:8080/",
          "height": 990
        },
        "outputId": "6826643b-fa09-4655-f03c-b5b4f0fb4a65"
      },
      "cell_type": "code",
      "source": [
        "merchants.info()"
      ],
      "execution_count": 261,
      "outputs": [
        {
          "output_type": "stream",
          "text": [
            "<class 'pandas.core.frame.DataFrame'>\n",
            "Index: 334696 entries, M_ID_838061e48c to M_ID_cd2c0b07e9\n",
            "Data columns (total 51 columns):\n",
            "merchant_group_id              334696 non-null uint32\n",
            "merchant_category_id           334696 non-null int16\n",
            "subsector_id                   334696 non-null int8\n",
            "numerical_1                    334696 non-null float16\n",
            "numerical_2                    334696 non-null float16\n",
            "most_recent_sales_range        334696 non-null int8\n",
            "most_recent_purchases_range    334696 non-null int8\n",
            "avg_sales_lag3                 334683 non-null float32\n",
            "avg_purchases_lag3             334696 non-null float32\n",
            "active_months_lag3             334696 non-null float16\n",
            "avg_sales_lag6                 334683 non-null float32\n",
            "avg_purchases_lag6             334696 non-null float32\n",
            "active_months_lag6             334696 non-null float16\n",
            "avg_sales_lag12                334683 non-null float32\n",
            "avg_purchases_lag12            334696 non-null float32\n",
            "active_months_lag12            334696 non-null float16\n",
            "city_id                        334696 non-null int16\n",
            "category_1_N                   334696 non-null uint8\n",
            "category_1_Y                   334696 non-null uint8\n",
            "category_2_1.00000000          334696 non-null uint8\n",
            "category_2_2.00000000          334696 non-null uint8\n",
            "category_2_3.00000000          334696 non-null uint8\n",
            "category_2_4.00000000          334696 non-null uint8\n",
            "category_2_5.00000000          334696 non-null uint8\n",
            "category_4_N                   334696 non-null uint8\n",
            "category_4_Y                   334696 non-null uint8\n",
            "state_id_-1                    334696 non-null uint8\n",
            "state_id_1                     334696 non-null uint8\n",
            "state_id_2                     334696 non-null uint8\n",
            "state_id_3                     334696 non-null uint8\n",
            "state_id_4                     334696 non-null uint8\n",
            "state_id_5                     334696 non-null uint8\n",
            "state_id_6                     334696 non-null uint8\n",
            "state_id_7                     334696 non-null uint8\n",
            "state_id_8                     334696 non-null uint8\n",
            "state_id_9                     334696 non-null uint8\n",
            "state_id_10                    334696 non-null uint8\n",
            "state_id_11                    334696 non-null uint8\n",
            "state_id_12                    334696 non-null uint8\n",
            "state_id_13                    334696 non-null uint8\n",
            "state_id_14                    334696 non-null uint8\n",
            "state_id_15                    334696 non-null uint8\n",
            "state_id_16                    334696 non-null uint8\n",
            "state_id_17                    334696 non-null uint8\n",
            "state_id_18                    334696 non-null uint8\n",
            "state_id_19                    334696 non-null uint8\n",
            "state_id_20                    334696 non-null uint8\n",
            "state_id_21                    334696 non-null uint8\n",
            "state_id_22                    334696 non-null uint8\n",
            "state_id_23                    334696 non-null uint8\n",
            "state_id_24                    334696 non-null uint8\n",
            "dtypes: float16(5), float32(6), int16(2), int8(3), uint32(1), uint8(34)\n",
            "memory usage: 27.8+ MB\n"
          ],
          "name": "stdout"
        }
      ]
    },
    {
      "metadata": {
        "id": "kr_LcNdjJCxt",
        "colab_type": "code",
        "colab": {}
      },
      "cell_type": "code",
      "source": [
        ""
      ],
      "execution_count": 0,
      "outputs": []
    },
    {
      "metadata": {
        "id": "IObMF390pIGD",
        "colab_type": "code",
        "colab": {}
      },
      "cell_type": "code",
      "source": [
        ""
      ],
      "execution_count": 0,
      "outputs": []
    },
    {
      "metadata": {
        "id": "JXvRkX6Rbtcl",
        "colab_type": "code",
        "colab": {}
      },
      "cell_type": "code",
      "source": [
        ""
      ],
      "execution_count": 0,
      "outputs": []
    },
    {
      "metadata": {
        "id": "1t2DwYoIFTDb",
        "colab_type": "code",
        "colab": {}
      },
      "cell_type": "code",
      "source": [
        ""
      ],
      "execution_count": 0,
      "outputs": []
    },
    {
      "metadata": {
        "id": "pOak-_wQeCLo",
        "colab_type": "code",
        "colab": {}
      },
      "cell_type": "code",
      "source": [
        ""
      ],
      "execution_count": 0,
      "outputs": []
    },
    {
      "metadata": {
        "id": "uO4Uwk0qeCzs",
        "colab_type": "code",
        "colab": {}
      },
      "cell_type": "code",
      "source": [
        ""
      ],
      "execution_count": 0,
      "outputs": []
    },
    {
      "metadata": {
        "id": "PwEBRgQweEXE",
        "colab_type": "code",
        "colab": {}
      },
      "cell_type": "code",
      "source": [
        "train.shape"
      ],
      "execution_count": 0,
      "outputs": []
    },
    {
      "metadata": {
        "id": "Z8ZAnsoGme3m",
        "colab_type": "code",
        "colab": {}
      },
      "cell_type": "code",
      "source": [
        ""
      ],
      "execution_count": 0,
      "outputs": []
    }
  ]
}