{
  "nbformat": 4,
  "nbformat_minor": 0,
  "metadata": {
    "colab": {
      "name": "kaggle_project_1.ipynb",
      "version": "0.3.2",
      "provenance": [],
      "collapsed_sections": [],
      "include_colab_link": true
    },
    "kernelspec": {
      "name": "python3",
      "display_name": "Python 3"
    },
    "accelerator": "GPU"
  },
  "cells": [
    {
      "cell_type": "markdown",
      "metadata": {
        "id": "view-in-github",
        "colab_type": "text"
      },
      "source": [
        "<a href=\"https://colab.research.google.com/github/mgrzegorz/first/blob/master/kaggle_project_1.ipynb\" target=\"_parent\"><img src=\"https://colab.research.google.com/assets/colab-badge.svg\" alt=\"Open In Colab\"/></a>"
      ]
    },
    {
      "metadata": {
        "id": "WEts5fIsdK_a",
        "colab_type": "text"
      },
      "cell_type": "markdown",
      "source": [
        "## Mounting Google Drive"
      ]
    },
    {
      "metadata": {
        "id": "_NWgNQupld5a",
        "colab_type": "code",
        "colab": {
          "base_uri": "https://localhost:8080/",
          "height": 513
        },
        "outputId": "2fb44c78-7f89-4bf7-a7a1-43fe22085984"
      },
      "cell_type": "code",
      "source": [
        "!pip install featuretools"
      ],
      "execution_count": 14,
      "outputs": [
        {
          "output_type": "stream",
          "text": [
            "Requirement already satisfied: featuretools in /usr/local/lib/python3.6/dist-packages (0.4.1)\n",
            "Requirement already satisfied: numpy>=1.13.3 in /usr/local/lib/python3.6/dist-packages (from featuretools) (1.14.6)\n",
            "Requirement already satisfied: pandas>=0.23.0 in /usr/local/lib/python3.6/dist-packages (from featuretools) (0.23.4)\n",
            "Requirement already satisfied: s3fs>=0.1.2 in /usr/local/lib/python3.6/dist-packages (from featuretools) (0.2.0)\n",
            "Requirement already satisfied: tqdm>=4.19.2 in /usr/local/lib/python3.6/dist-packages (from featuretools) (4.28.1)\n",
            "Requirement already satisfied: toolz>=0.8.2 in /usr/local/lib/python3.6/dist-packages (from featuretools) (0.9.0)\n",
            "Requirement already satisfied: pyyaml>=3.12 in /usr/local/lib/python3.6/dist-packages (from featuretools) (3.13)\n",
            "Requirement already satisfied: cloudpickle>=0.4.0 in /usr/local/lib/python3.6/dist-packages (from featuretools) (0.6.1)\n",
            "Requirement already satisfied: future>=0.16.0 in /usr/local/lib/python3.6/dist-packages (from featuretools) (0.16.0)\n",
            "Requirement already satisfied: dask>=0.19.4 in /usr/local/lib/python3.6/dist-packages (from featuretools) (0.20.2)\n",
            "Requirement already satisfied: distributed>=1.24.2 in /usr/local/lib/python3.6/dist-packages (from featuretools) (1.25.2)\n",
            "Requirement already satisfied: psutil>=5.4.8 in /usr/local/lib/python3.6/dist-packages (from featuretools) (5.4.8)\n",
            "Requirement already satisfied: python-dateutil>=2.5.0 in /usr/local/lib/python3.6/dist-packages (from pandas>=0.23.0->featuretools) (2.5.3)\n",
            "Requirement already satisfied: pytz>=2011k in /usr/local/lib/python3.6/dist-packages (from pandas>=0.23.0->featuretools) (2018.9)\n",
            "Requirement already satisfied: botocore in /usr/local/lib/python3.6/dist-packages (from s3fs>=0.1.2->featuretools) (1.12.75)\n",
            "Requirement already satisfied: boto3 in /usr/local/lib/python3.6/dist-packages (from s3fs>=0.1.2->featuretools) (1.9.75)\n",
            "Requirement already satisfied: six in /usr/local/lib/python3.6/dist-packages (from s3fs>=0.1.2->featuretools) (1.11.0)\n",
            "Requirement already satisfied: msgpack in /usr/local/lib/python3.6/dist-packages (from distributed>=1.24.2->featuretools) (0.5.6)\n",
            "Requirement already satisfied: sortedcontainers!=2.0.0,!=2.0.1 in /usr/local/lib/python3.6/dist-packages (from distributed>=1.24.2->featuretools) (2.1.0)\n",
            "Requirement already satisfied: tornado>=4.5.1 in /usr/local/lib/python3.6/dist-packages (from distributed>=1.24.2->featuretools) (4.5.3)\n",
            "Requirement already satisfied: tblib in /usr/local/lib/python3.6/dist-packages (from distributed>=1.24.2->featuretools) (1.3.2)\n",
            "Requirement already satisfied: zict>=0.1.3 in /usr/local/lib/python3.6/dist-packages (from distributed>=1.24.2->featuretools) (0.1.3)\n",
            "Requirement already satisfied: click>=6.6 in /usr/local/lib/python3.6/dist-packages (from distributed>=1.24.2->featuretools) (7.0)\n",
            "Requirement already satisfied: urllib3<1.25,>=1.20; python_version >= \"3.4\" in /usr/local/lib/python3.6/dist-packages (from botocore->s3fs>=0.1.2->featuretools) (1.22)\n",
            "Requirement already satisfied: docutils>=0.10 in /usr/local/lib/python3.6/dist-packages (from botocore->s3fs>=0.1.2->featuretools) (0.14)\n",
            "Requirement already satisfied: jmespath<1.0.0,>=0.7.1 in /usr/local/lib/python3.6/dist-packages (from botocore->s3fs>=0.1.2->featuretools) (0.9.3)\n",
            "Requirement already satisfied: s3transfer<0.2.0,>=0.1.10 in /usr/local/lib/python3.6/dist-packages (from boto3->s3fs>=0.1.2->featuretools) (0.1.13)\n",
            "Requirement already satisfied: heapdict in /usr/local/lib/python3.6/dist-packages (from zict>=0.1.3->distributed>=1.24.2->featuretools) (1.0.0)\n"
          ],
          "name": "stdout"
        }
      ]
    },
    {
      "metadata": {
        "id": "0lBRxc7auaY-",
        "colab_type": "code",
        "colab": {}
      },
      "cell_type": "code",
      "source": [
        "import featuretools as ft"
      ],
      "execution_count": 0,
      "outputs": []
    },
    {
      "metadata": {
        "id": "iwj6Dy7fo3h1",
        "colab_type": "code",
        "colab": {}
      },
      "cell_type": "code",
      "source": [
        "!pip install sklearn"
      ],
      "execution_count": 0,
      "outputs": []
    },
    {
      "metadata": {
        "id": "eqsxOlFVc-tg",
        "colab_type": "code",
        "outputId": "e32041ff-e313-484c-ea25-2a4cde7fb588",
        "colab": {
          "base_uri": "https://localhost:8080/",
          "height": 34
        }
      },
      "cell_type": "code",
      "source": [
        "from google.colab import drive\n",
        "drive.mount('/content/gdrive')\n"
      ],
      "execution_count": 3,
      "outputs": [
        {
          "output_type": "stream",
          "text": [
            "Drive already mounted at /content/gdrive; to attempt to forcibly remount, call drive.mount(\"/content/gdrive\", force_remount=True).\n"
          ],
          "name": "stdout"
        }
      ]
    },
    {
      "metadata": {
        "id": "sM7BsMGBDikg",
        "colab_type": "code",
        "colab": {}
      },
      "cell_type": "code",
      "source": [
        "import numpy as np\n",
        "import pandas as pd\n",
        "import os\n",
        "from sklearn.model_selection import KFold\n",
        "import time\n",
        "import sys\n",
        "import datetime\n",
        "\n",
        "import lightgbm as lgb\n",
        "import warnings\n",
        "import matplotlib.pyplot as plt\n",
        "import seaborn as sns\n",
        "from sklearn.metrics import mean_squared_error\n",
        "warnings.simplefilter(action='ignore', category=FutureWarning)\n",
        "pd.set_option('display.max_columns', 500)"
      ],
      "execution_count": 0,
      "outputs": []
    },
    {
      "metadata": {
        "id": "4wU-bEwSdeGF",
        "colab_type": "code",
        "colab": {}
      },
      "cell_type": "code",
      "source": [
        "# zmiana working directory\n",
        "os.chdir(\"/content/gdrive/My Drive/Data/Elo/\")"
      ],
      "execution_count": 0,
      "outputs": []
    },
    {
      "metadata": {
        "id": "C9bEXDuAmCGv",
        "colab_type": "code",
        "outputId": "d656c1e9-c5e4-499e-c127-305bab1377f3",
        "colab": {
          "base_uri": "https://localhost:8080/",
          "height": 221
        }
      },
      "cell_type": "code",
      "source": [
        "#source: https://stackoverflow.com/questions/48750199/google-colaboratory-misleading-information-about-its-gpu-only-5-ram-available\n",
        "!ln -sf /opt/bin/nvidia-smi /usr/bin/nvidia-smi\n",
        "!pip install gputil\n",
        "!pip install psutil\n",
        "!pip install humanize\n",
        "import psutil\n",
        "import humanize\n",
        "import os\n",
        "import GPUtil as GPU\n",
        "GPUs = GPU.getGPUs()\n",
        "#XXX: only one GPU on Colab and isn’t guaranteed\n",
        "gpu = GPUs[0]\n",
        "def printm():\n",
        "  process = psutil.Process(os.getpid())\n",
        "  print(\"Gen RAM Free: \" + humanize.naturalsize(psutil.virtual_memory().available), \" | Proc size: \" + humanize.naturalsize(process.memory_info().rss))\n",
        "  print(\"GPU RAM Free: {0:.0f}MB | Used: {1:.0f}MB | Util {2:3.0f}% | Total {3:.0f}MB\".format(gpu.memoryFree, gpu.memoryUsed, gpu.memoryUtil*100, gpu.memoryTotal))\n",
        "printm()"
      ],
      "execution_count": 0,
      "outputs": [
        {
          "output_type": "stream",
          "text": [
            "Collecting gputil\n",
            "  Downloading https://files.pythonhosted.org/packages/ed/0e/5c61eedde9f6c87713e89d794f01e378cfd9565847d4576fa627d758c554/GPUtil-1.4.0.tar.gz\n",
            "Building wheels for collected packages: gputil\n",
            "  Running setup.py bdist_wheel for gputil ... \u001b[?25l-\b \bdone\n",
            "\u001b[?25h  Stored in directory: /root/.cache/pip/wheels/3d/77/07/80562de4bb0786e5ea186911a2c831fdd0018bda69beab71fd\n",
            "Successfully built gputil\n",
            "Installing collected packages: gputil\n",
            "Successfully installed gputil-1.4.0\n",
            "Requirement already satisfied: psutil in /usr/local/lib/python3.6/dist-packages (5.4.8)\n",
            "Requirement already satisfied: humanize in /usr/local/lib/python3.6/dist-packages (0.5.1)\n",
            "Gen RAM Free: 12.9 GB  | Proc size: 141.9 MB\n",
            "GPU RAM Free: 11441MB | Used: 0MB | Util   0% | Total 11441MB\n"
          ],
          "name": "stdout"
        }
      ]
    },
    {
      "metadata": {
        "id": "LySCldXEeZOk",
        "colab_type": "code",
        "outputId": "061999f2-366c-4681-9970-ef91cf42ca4a",
        "colab": {
          "base_uri": "https://localhost:8080/",
          "height": 34
        }
      },
      "cell_type": "code",
      "source": [
        "#%reset"
      ],
      "execution_count": 0,
      "outputs": [
        {
          "output_type": "stream",
          "text": [
            "Once deleted, variables cannot be recovered. Proceed (y/[n])? y\n"
          ],
          "name": "stdout"
        }
      ]
    },
    {
      "metadata": {
        "id": "SX2Q6coVf1sM",
        "colab_type": "code",
        "colab": {}
      },
      "cell_type": "code",
      "source": [
        "!pip install -U -q kaggle\n",
        "!mkdir -p ~/.kaggle"
      ],
      "execution_count": 0,
      "outputs": []
    },
    {
      "metadata": {
        "id": "IU-glxh2hJ6q",
        "colab_type": "code",
        "colab": {}
      },
      "cell_type": "code",
      "source": [
        "from google.colab import files\n",
        "files.upload()"
      ],
      "execution_count": 0,
      "outputs": []
    },
    {
      "metadata": {
        "id": "FBurfMMEhnsP",
        "colab_type": "code",
        "colab": {}
      },
      "cell_type": "code",
      "source": [
        "!cp kaggle.json ~/.kaggle/"
      ],
      "execution_count": 0,
      "outputs": []
    },
    {
      "metadata": {
        "id": "Xo09Sn8Yknoi",
        "colab_type": "code",
        "colab": {}
      },
      "cell_type": "code",
      "source": [
        "!chmod 600 /root/.kaggle/kaggle.json"
      ],
      "execution_count": 0,
      "outputs": []
    },
    {
      "metadata": {
        "id": "h-NF_nXoiATm",
        "colab_type": "code",
        "outputId": "60a85d89-dca6-487c-ff39-83815b0e58a2",
        "colab": {
          "base_uri": "https://localhost:8080/",
          "height": 34
        }
      },
      "cell_type": "code",
      "source": [
        "!kaggle competitions download -c elo-merchant-category-recommendation -p /content/gdrive/My\\ Drive/Data"
      ],
      "execution_count": 0,
      "outputs": [
        {
          "output_type": "stream",
          "text": [
            "/bin/bash: kaggle: command not found\n"
          ],
          "name": "stdout"
        }
      ]
    },
    {
      "metadata": {
        "id": "JtmlS2MOZ4Hn",
        "colab_type": "code",
        "colab": {}
      },
      "cell_type": "code",
      "source": [
        "merchants_types = {\n",
        "  'merchant_group_id': 'uint32',\n",
        "  'merchant_category_id':'int16',\n",
        "  'city_id': 'int16',\n",
        "  'state_id': 'int8',\n",
        "  'subsector_id': 'int8',\n",
        "  'numerical_1': 'float16',\n",
        "  'numerical_2': 'float16',\n",
        "  'category_1': 'category', #bool_,\n",
        "  'category_2': 'category',\n",
        "  'category_4': 'category',   \n",
        "  'most_recent_sales_range': 'category',\n",
        "  'most_recent_purchases_range': 'category',\n",
        "  'avg_sales_lag3': 'float32',\n",
        "  'avg_purchases_lag3': 'float32',\n",
        "  'active_months_lag3': 'float16',\n",
        "  'avg_sales_lag6': 'float32',\n",
        "  'avg_purchases_lag6': 'float32',\n",
        "  'active_months_lag6': 'float16',\n",
        "  'avg_sales_lag12': 'float32',\n",
        "  'avg_purchases_lag12': 'float32',\n",
        "  'active_months_lag12': 'float16'\n",
        " }\n",
        "types_new_merchant_transactions = {\n",
        "  'merchant_id':'object',\n",
        "  'authorized_flag':'category',\n",
        "  'city_id': 'int16',\n",
        "  'state_id': 'int8',    \n",
        "  'subsector_id': 'int8',\n",
        "  'category_1': 'category',\n",
        "  'category_2': 'category',\n",
        "  'category_3': 'category',\n",
        "  'installments': 'int16',\n",
        "  'merchant_category_id': 'int16',\n",
        "  'month_lag': 'int8', #1,2 \n",
        "  'purchase_amount': 'float32'\n",
        "  }\n",
        "types_historical_transactions = {\n",
        "  'authorized_flag':'category',\n",
        "  'city_id': 'int16',\n",
        "  'state_id': 'int8',\n",
        "  'subsector_id': 'int8',\n",
        "  'category_1': 'category',\n",
        "  'category_2': 'category',\n",
        "  'category_3': 'category',    \n",
        "  'installments': 'int16',\n",
        "  'merchant_category_id': 'int16',     \n",
        "  'merchant_id':'object',\n",
        "  'month_lag': 'int8',   \n",
        "  'purchase_amount': 'float32',\n",
        "}\n",
        "types_train ={\n",
        "    'feature_1': 'uint8',\n",
        "    'feature_2': 'uint8',\n",
        "    'feature_3': 'bool_',\n",
        "    'target': 'float16'\n",
        "}\n",
        "types_test ={\n",
        "    'feature_1': 'uint8',\n",
        "    'feature_2': 'uint8',\n",
        "    'feature_3': 'bool_'\n",
        "}"
      ],
      "execution_count": 0,
      "outputs": []
    },
    {
      "metadata": {
        "id": "6G1BgusHuzqz",
        "colab_type": "code",
        "colab": {}
      },
      "cell_type": "code",
      "source": [
        "def binarize(df):\n",
        "    for col in ['authorized_flag', 'category_1']:\n",
        "        df[col] = df[col].map({'Y':1, 'N':0})\n",
        "    return df"
      ],
      "execution_count": 0,
      "outputs": []
    },
    {
      "metadata": {
        "id": "xXYCLGqNl81T",
        "colab_type": "code",
        "colab": {}
      },
      "cell_type": "code",
      "source": [
        "new_transactions = pd.read_csv(\"new_merchant_transactions.csv\", index_col = 'card_id', parse_dates=['purchase_date'], dtype=types_new_merchant_transactions)\n",
        "#new_transactions['purchase_date'] = pd.to_datetime(new_merchant_transactions['purchase_date'], unit='ns')\n",
        "historical_transactions = pd.read_csv(\"historical_transactions.csv\", index_col = 'card_id', parse_dates=['purchase_date'], dtype=types_historical_transactions)\n",
        "#historical_transactions['purchase_date'] = pd.to_datetime(historical_transactions['purchase_date'], unit='ns')\n",
        "train = pd.read_csv(\"train.csv\", index_col = 'card_id', parse_dates=['first_active_month'], dtype = types_train)\n",
        "#train['first_active_month'] = pd.to_datetime(train['first_active_month'])\n",
        "test = pd.read_csv(\"test.csv\", index_col = 'card_id', parse_dates=['first_active_month'], dtype = types_test)\n",
        "#test['first_active_month'] = pd.to_datetime(test['first_active_month'])"
      ],
      "execution_count": 0,
      "outputs": []
    },
    {
      "metadata": {
        "id": "-klYV4HUugAH",
        "colab_type": "code",
        "colab": {}
      },
      "cell_type": "code",
      "source": [
        "\n"
      ],
      "execution_count": 0,
      "outputs": []
    },
    {
      "metadata": {
        "id": "GX6wN59CvmJH",
        "colab_type": "text"
      },
      "cell_type": "markdown",
      "source": [
        "Featuretools w akcji"
      ]
    },
    {
      "metadata": {
        "id": "iSohc_eCvZiB",
        "colab_type": "code",
        "colab": {}
      },
      "cell_type": "code",
      "source": [
        "merchants.reset_index(inplace = True) #merchant_id\n",
        "new_transactions.reset_index(inplace = True) #brak własnego id, do łączenia card_id a w drugą stronę merchant_id\n",
        "historical_transactions.reset_index(inplace = True) #brak własnego id, do łączenia card_id, a w drugą stronę merchant_id\n",
        "train.reset_index(inplace = True) #card_id"
      ],
      "execution_count": 0,
      "outputs": []
    },
    {
      "metadata": {
        "id": "HM0BYBpiwk0H",
        "colab_type": "code",
        "colab": {}
      },
      "cell_type": "code",
      "source": [
        "merchants = merchants[~merchants['merchant_id'].duplicated()]"
      ],
      "execution_count": 0,
      "outputs": []
    },
    {
      "metadata": {
        "id": "lPrIjS0Gv_vR",
        "colab_type": "code",
        "colab": {}
      },
      "cell_type": "code",
      "source": [
        "es = ft.EntitySet(id = 'card')\n",
        "es = es.entity_from_dataframe(entity_id = 'card', \n",
        "                              dataframe = train, \n",
        "                              index = 'card_id')\n",
        "es = es.entity_from_dataframe(entity_id = 'new_transactions', \n",
        "                              dataframe = new_transactions,\n",
        "                              make_index = True,\n",
        "                              index = 'new_transactions_id',\n",
        "                              time_index = 'purchase_date')\n",
        "es = es.entity_from_dataframe(entity_id = 'historical_transactions', \n",
        "                              dataframe = historical_transactions,\n",
        "                              make_index = True,\n",
        "                              index = 'historical_transactions_id',\n",
        "                              time_index = 'purchase_date')\n",
        "es = es.entity_from_dataframe(entity_id = 'merchants', \n",
        "                              dataframe = merchants, \n",
        "                              index = 'merchant_id')"
      ],
      "execution_count": 0,
      "outputs": []
    },
    {
      "metadata": {
        "id": "8KeFwR11xvfQ",
        "colab_type": "code",
        "colab": {
          "base_uri": "https://localhost:8080/",
          "height": 231
        },
        "outputId": "f2defcf9-4af3-4b80-95fa-d7c63c24f020"
      },
      "cell_type": "code",
      "source": [
        "r_card_new_transactions = ft.Relationship(es['card']['card_id'],\n",
        "                                    es['new_transactions']['card_id'])\n",
        "r_card_historical_transactions = ft.Relationship(es['card']['card_id'],\n",
        "                                    es['historical_transactions']['card_id'])\n",
        "r_new_transactions_merchants = ft.Relationship(es['new_transactions']['merchant_id'],\n",
        "                                              es['merchants']['merchant_id'])\n",
        "r_historical_transactions_merchants = ft.Relationship(es['historical_transactions']['merchant_id'],\n",
        "                                              es['merchants']['merchant_id'])\n",
        "\n",
        "# Add the relationship to the entity set\n",
        "es = es.add_relationship(r_client_previous)"
      ],
      "execution_count": 1,
      "outputs": [
        {
          "output_type": "error",
          "ename": "NameError",
          "evalue": "ignored",
          "traceback": [
            "\u001b[0;31m---------------------------------------------------------------------------\u001b[0m",
            "\u001b[0;31mNameError\u001b[0m                                 Traceback (most recent call last)",
            "\u001b[0;32m<ipython-input-1-2f7d3ef71e53>\u001b[0m in \u001b[0;36m<module>\u001b[0;34m()\u001b[0m\n\u001b[0;32m----> 1\u001b[0;31m r_card_new_transactions = ft.Relationship(es['card']['card_id'],\n\u001b[0m\u001b[1;32m      2\u001b[0m                                     es['new_transactions']['card_id'])\n\u001b[1;32m      3\u001b[0m r_card_historical_transactions = ft.Relationship(es['card']['card_id'],\n\u001b[1;32m      4\u001b[0m                                     es['historical_transactions']['card_id'])\n\u001b[1;32m      5\u001b[0m r_new_transactions_merchants = ft.Relationship(es['new_transactions']['merchant_id'],\n",
            "\u001b[0;31mNameError\u001b[0m: name 'ft' is not defined"
          ]
        }
      ]
    },
    {
      "metadata": {
        "id": "_xx45zWN2tED",
        "colab_type": "code",
        "colab": {}
      },
      "cell_type": "code",
      "source": [
        "features, feature_names = ft.dfs(entityset = es, target_entity = 'card', \n",
        "                                 agg_primitives = ['mean'],\n",
        "                                 trans_primitives = ['years', 'month', 'subtract'])"
      ],
      "execution_count": 0,
      "outputs": []
    },
    {
      "metadata": {
        "id": "o8BUo3FFzHAp",
        "colab_type": "code",
        "colab": {}
      },
      "cell_type": "code",
      "source": [
        ""
      ],
      "execution_count": 0,
      "outputs": []
    },
    {
      "metadata": {
        "id": "Y--kCF-Lw5bX",
        "colab_type": "code",
        "colab": {
          "base_uri": "https://localhost:8080/",
          "height": 102
        },
        "outputId": "7f5e787c-5b3b-49f0-9ebf-8a1e2a614b82"
      },
      "cell_type": "code",
      "source": [
        "es"
      ],
      "execution_count": 20,
      "outputs": [
        {
          "output_type": "execute_result",
          "data": {
            "text/plain": [
              "Entityset: card\n",
              "  Entities:\n",
              "    card [Rows: 201917, Columns: 5]\n",
              "  Relationships:\n",
              "    No relationships"
            ]
          },
          "metadata": {
            "tags": []
          },
          "execution_count": 20
        }
      ]
    },
    {
      "metadata": {
        "id": "g2lqCGOJ87wy",
        "colab_type": "code",
        "colab": {}
      },
      "cell_type": "code",
      "source": [
        "target = train['target']\n",
        "del train['target']"
      ],
      "execution_count": 0,
      "outputs": []
    },
    {
      "metadata": {
        "id": "Ui1aZARpcxLV",
        "colab_type": "code",
        "colab": {}
      },
      "cell_type": "code",
      "source": [
        "merchants = pd.read_csv(\"merchants.csv\", index_col='merchant_id', dtype = merchants_types)\n",
        "#merchants = pd.get_dummies(merchants, columns = ['category_1', 'category_2', 'category_4', 'state_id'])\n",
        "#merchants['most_recent_purchases_range'] = merchants['most_recent_purchases_range'].cat.codes #ordinal\n",
        "#merchants['most_recent_sales_range'] = merchants['most_recent_sales_range'].cat.codes         #ordinal\n",
        "merchants.reset_index(inplace=True)"
      ],
      "execution_count": 0,
      "outputs": []
    },
    {
      "metadata": {
        "id": "JBQCKo1RzNNH",
        "colab_type": "code",
        "colab": {}
      },
      "cell_type": "code",
      "source": [
        "# https://www.kaggle.com/fabiendaniel/elo-world\n",
        "def reduce_mem_usage(df, verbose=True):\n",
        "    numerics = ['int16', 'int32', 'int64', 'float16', 'float32', 'float64']\n",
        "    start_mem = df.memory_usage().sum() / 1024**2    \n",
        "    for col in df.columns:\n",
        "        col_type = df[col].dtypes\n",
        "        if col_type in numerics:\n",
        "            c_min = df[col].min()\n",
        "            c_max = df[col].max()\n",
        "            if str(col_type)[:3] == 'int':\n",
        "                if c_min > np.iinfo(np.int8).min and c_max < np.iinfo(np.int8).max:\n",
        "                    df[col] = df[col].astype(np.int8)\n",
        "                elif c_min > np.iinfo(np.int16).min and c_max < np.iinfo(np.int16).max:\n",
        "                    df[col] = df[col].astype(np.int16)\n",
        "                elif c_min > np.iinfo(np.int32).min and c_max < np.iinfo(np.int32).max:\n",
        "                    df[col] = df[col].astype(np.int32)\n",
        "                elif c_min > np.iinfo(np.int64).min and c_max < np.iinfo(np.int64).max:\n",
        "                    df[col] = df[col].astype(np.int64)  \n",
        "            else:\n",
        "                if c_min > np.finfo(np.float16).min and c_max < np.finfo(np.float16).max:\n",
        "                    df[col] = df[col].astype(np.float16)\n",
        "                elif c_min > np.finfo(np.float32).min and c_max < np.finfo(np.float32).max:\n",
        "                    df[col] = df[col].astype(np.float32)\n",
        "                else:\n",
        "                    df[col] = df[col].astype(np.float64)    \n",
        "    end_mem = df.memory_usage().sum() / 1024**2\n",
        "    if verbose: print('Mem. usage decreased to {:5.2f} Mb ({:.1f}% reduction)'.format(end_mem, 100 * (start_mem - end_mem) / start_mem))\n",
        "    return df"
      ],
      "execution_count": 0,
      "outputs": []
    },
    {
      "metadata": {
        "id": "ZhjWdhFtzlMV",
        "colab_type": "code",
        "colab": {}
      },
      "cell_type": "code",
      "source": [
        "historical_transactions = binarize(historical_transactions)\n",
        "new_transactions = binarize(new_transactions)"
      ],
      "execution_count": 0,
      "outputs": []
    },
    {
      "metadata": {
        "id": "GlKw0ntn9aqX",
        "colab_type": "text"
      },
      "cell_type": "markdown",
      "source": [
        "Feature enginering"
      ]
    },
    {
      "metadata": {
        "id": "wQi1waz4yAeF",
        "colab_type": "code",
        "colab": {}
      },
      "cell_type": "code",
      "source": [
        "historical_transactions['month_diff'] = ((datetime.datetime.today() - historical_transactions['purchase_date']).dt.days)//30\n",
        "historical_transactions['month_diff'] += historical_transactions['month_lag']\n",
        "\n",
        "new_transactions['month_diff'] = ((datetime.datetime.today() - new_transactions['purchase_date']).dt.days)//30\n",
        "new_transactions['month_diff'] += new_transactions['month_lag']"
      ],
      "execution_count": 0,
      "outputs": []
    },
    {
      "metadata": {
        "id": "G9bXZ7Ty9huG",
        "colab_type": "code",
        "colab": {
          "base_uri": "https://localhost:8080/",
          "height": 231
        },
        "outputId": "80cfefeb-6057-4fef-f9fa-447aea46d3eb"
      },
      "cell_type": "code",
      "source": [
        "historical_transactions = pd.get_dummies(historical_transactions, columns=['category_2', 'category_3'])\n",
        "new_transactions = pd.get_dummies(new_transactions, columns=['category_2', 'category_3'])\n",
        "\n",
        "historical_transactions = reduce_mem_usage(historical_transactions)\n",
        "new_transactions = reduce_mem_usage(new_transactions)\n",
        "\n"
      ],
      "execution_count": 9,
      "outputs": [
        {
          "output_type": "error",
          "ename": "NameError",
          "evalue": "ignored",
          "traceback": [
            "\u001b[0;31m---------------------------------------------------------------------------\u001b[0m",
            "\u001b[0;31mNameError\u001b[0m                                 Traceback (most recent call last)",
            "\u001b[0;32m<ipython-input-9-e3778aef31bd>\u001b[0m in \u001b[0;36m<module>\u001b[0;34m()\u001b[0m\n\u001b[1;32m      2\u001b[0m \u001b[0mnew_transactions\u001b[0m \u001b[0;34m=\u001b[0m \u001b[0mpd\u001b[0m\u001b[0;34m.\u001b[0m\u001b[0mget_dummies\u001b[0m\u001b[0;34m(\u001b[0m\u001b[0mnew_transactions\u001b[0m\u001b[0;34m,\u001b[0m \u001b[0mcolumns\u001b[0m\u001b[0;34m=\u001b[0m\u001b[0;34m[\u001b[0m\u001b[0;34m'category_2'\u001b[0m\u001b[0;34m,\u001b[0m \u001b[0;34m'category_3'\u001b[0m\u001b[0;34m]\u001b[0m\u001b[0;34m)\u001b[0m\u001b[0;34m\u001b[0m\u001b[0;34m\u001b[0m\u001b[0m\n\u001b[1;32m      3\u001b[0m \u001b[0;34m\u001b[0m\u001b[0m\n\u001b[0;32m----> 4\u001b[0;31m \u001b[0mhistorical_transactions\u001b[0m \u001b[0;34m=\u001b[0m \u001b[0mreduce_mem_usage\u001b[0m\u001b[0;34m(\u001b[0m\u001b[0mhistorical_transactions\u001b[0m\u001b[0;34m)\u001b[0m\u001b[0;34m\u001b[0m\u001b[0;34m\u001b[0m\u001b[0m\n\u001b[0m\u001b[1;32m      5\u001b[0m \u001b[0mnew_transactions\u001b[0m \u001b[0;34m=\u001b[0m \u001b[0mreduce_mem_usage\u001b[0m\u001b[0;34m(\u001b[0m\u001b[0mnew_transactions\u001b[0m\u001b[0;34m)\u001b[0m\u001b[0;34m\u001b[0m\u001b[0;34m\u001b[0m\u001b[0m\n\u001b[1;32m      6\u001b[0m \u001b[0;34m\u001b[0m\u001b[0m\n",
            "\u001b[0;31mNameError\u001b[0m: name 'reduce_mem_usage' is not defined"
          ]
        }
      ]
    },
    {
      "metadata": {
        "id": "Jyk62CwElMVz",
        "colab_type": "code",
        "colab": {}
      },
      "cell_type": "code",
      "source": [
        "agg_fun = {'authorized_flag': ['mean']}\n",
        "auth_mean = historical_transactions.groupby(['card_id']).agg(agg_fun)\n",
        "auth_mean.columns = ['_'.join(col).strip() for col in auth_mean.columns.values]\n",
        "auth_mean.reset_index(inplace=True)"
      ],
      "execution_count": 0,
      "outputs": []
    },
    {
      "metadata": {
        "id": "leJ5bLZ6_8Wd",
        "colab_type": "code",
        "colab": {}
      },
      "cell_type": "code",
      "source": [
        "authorized_transactions = historical_transactions[historical_transactions['authorized_flag'] == 1]\n",
        "historical_transactions = historical_transactions[historical_transactions['authorized_flag'] == 0]"
      ],
      "execution_count": 0,
      "outputs": []
    },
    {
      "metadata": {
        "id": "h8FrSveJABH1",
        "colab_type": "code",
        "colab": {}
      },
      "cell_type": "code",
      "source": [
        "historical_transactions['purchase_month'] = historical_transactions['purchase_date'].dt.month\n",
        "authorized_transactions['purchase_month'] = authorized_transactions['purchase_date'].dt.month\n",
        "new_transactions['purchase_month'] = new_transactions['purchase_date'].dt.month"
      ],
      "execution_count": 0,
      "outputs": []
    },
    {
      "metadata": {
        "id": "KHeaZed6AVdq",
        "colab_type": "code",
        "outputId": "2a3a7ba7-8b3e-4d01-d3b7-fe10326f64c4",
        "colab": {
          "base_uri": "https://localhost:8080/",
          "height": 153
        }
      },
      "cell_type": "code",
      "source": [
        "pd.DatetimeIndex(historical_transactions['purchase_date']).astype(np.int64) * 1e-9"
      ],
      "execution_count": 0,
      "outputs": [
        {
          "output_type": "execute_result",
          "data": {
            "text/plain": [
              "Float64Index([1491569889.0, 1505688027.0, 1505688026.0, 1519124270.0,\n",
              "              1499499211.0, 1490197988.0, 1499499150.0, 1499499169.0,\n",
              "              1490197972.0, 1504817839.0,\n",
              "              ...\n",
              "              1509063312.0, 1501849863.0, 1501849937.0, 1501849922.0,\n",
              "              1501849995.0, 1501356749.0, 1507835014.0, 1516012473.0,\n",
              "              1488660385.0, 1500106669.0],\n",
              "             dtype='float64', name='purchase_date', length=2516909)"
            ]
          },
          "metadata": {
            "tags": []
          },
          "execution_count": 53
        }
      ]
    },
    {
      "metadata": {
        "id": "vcPjrZM6CRRb",
        "colab_type": "text"
      },
      "cell_type": "markdown",
      "source": [
        "First grouping function"
      ]
    },
    {
      "metadata": {
        "id": "jacGMOPKAkLe",
        "colab_type": "code",
        "colab": {}
      },
      "cell_type": "code",
      "source": [
        "def aggregate_transactions(history):\n",
        "    \n",
        "    history.loc[:, 'purchase_date'] = pd.DatetimeIndex(history['purchase_date']).\\\n",
        "                                      astype(np.int64) * 1e-9\n",
        "    \n",
        "    agg_func = {\n",
        "    'category_1': ['sum', 'mean'],\n",
        "    'category_2_1.00000000': ['mean'],\n",
        "    'category_2_2.00000000': ['mean'],\n",
        "    'category_2_3.00000000': ['mean'],\n",
        "    'category_2_4.00000000': ['mean'],\n",
        "    'category_2_5.00000000': ['mean'],\n",
        "    'category_3_A': ['mean'],\n",
        "    'category_3_B': ['mean'],\n",
        "    'category_3_C': ['mean'],\n",
        "    'merchant_id': ['nunique'],\n",
        "    'merchant_category_id': ['nunique'],\n",
        "    'state_id': ['nunique'],\n",
        "    'city_id': ['nunique'],\n",
        "    'subsector_id': ['nunique'],\n",
        "    'purchase_amount': ['sum', 'mean', 'max', 'min', 'std'],\n",
        "    'installments': ['sum', 'mean', 'max', 'min', 'std'],\n",
        "    'purchase_month': ['mean', 'max', 'min', 'std'],\n",
        "    'purchase_date': [np.ptp, 'min', 'max'],\n",
        "    'month_lag': ['mean', 'max', 'min', 'std'],\n",
        "    'month_diff': ['mean']\n",
        "    }\n",
        "    \n",
        "    agg_history = history.groupby(['card_id']).agg(agg_func)\n",
        "    agg_history.columns = ['_'.join(col).strip() for col in agg_history.columns.values]\n",
        "    agg_history.reset_index(inplace=True)\n",
        "    \n",
        "    df = (history.groupby('card_id')\n",
        "          .size()\n",
        "          .reset_index(name='transactions_count'))\n",
        "    \n",
        "    agg_history = pd.merge(df, agg_history, on='card_id', how='left')\n",
        "    \n",
        "    return agg_history"
      ],
      "execution_count": 0,
      "outputs": []
    },
    {
      "metadata": {
        "id": "QgIsUjOwBIlQ",
        "colab_type": "code",
        "outputId": "8dfaf211-d623-4815-cf48-9da254cfc570",
        "colab": {
          "base_uri": "https://localhost:8080/",
          "height": 253
        }
      },
      "cell_type": "code",
      "source": [
        "history = aggregate_transactions(historical_transactions)\n",
        "history.columns = ['hist_' + c if c != 'card_id' else c for c in history.columns]\n",
        "history[:5]"
      ],
      "execution_count": 0,
      "outputs": [
        {
          "output_type": "execute_result",
          "data": {
            "text/html": [
              "<div>\n",
              "<style scoped>\n",
              "    .dataframe tbody tr th:only-of-type {\n",
              "        vertical-align: middle;\n",
              "    }\n",
              "\n",
              "    .dataframe tbody tr th {\n",
              "        vertical-align: top;\n",
              "    }\n",
              "\n",
              "    .dataframe thead th {\n",
              "        text-align: right;\n",
              "    }\n",
              "</style>\n",
              "<table border=\"1\" class=\"dataframe\">\n",
              "  <thead>\n",
              "    <tr style=\"text-align: right;\">\n",
              "      <th></th>\n",
              "      <th>card_id</th>\n",
              "      <th>hist_transactions_count</th>\n",
              "      <th>hist_category_1_sum</th>\n",
              "      <th>hist_category_1_mean</th>\n",
              "      <th>hist_category_2_1.00000000_mean</th>\n",
              "      <th>hist_category_2_2.00000000_mean</th>\n",
              "      <th>hist_category_2_3.00000000_mean</th>\n",
              "      <th>hist_category_2_4.00000000_mean</th>\n",
              "      <th>hist_category_2_5.00000000_mean</th>\n",
              "      <th>hist_category_3_A_mean</th>\n",
              "      <th>...</th>\n",
              "      <th>hist_purchase_month_min</th>\n",
              "      <th>hist_purchase_month_std</th>\n",
              "      <th>hist_purchase_date_ptp</th>\n",
              "      <th>hist_purchase_date_min</th>\n",
              "      <th>hist_purchase_date_max</th>\n",
              "      <th>hist_month_lag_mean</th>\n",
              "      <th>hist_month_lag_max</th>\n",
              "      <th>hist_month_lag_min</th>\n",
              "      <th>hist_month_lag_std</th>\n",
              "      <th>hist_month_diff_mean</th>\n",
              "    </tr>\n",
              "  </thead>\n",
              "  <tbody>\n",
              "    <tr>\n",
              "      <th>0</th>\n",
              "      <td>C_ID_00007093c1</td>\n",
              "      <td>35</td>\n",
              "      <td>4.0</td>\n",
              "      <td>0.114286</td>\n",
              "      <td>0.000000</td>\n",
              "      <td>0.000000</td>\n",
              "      <td>0.885714</td>\n",
              "      <td>0.0</td>\n",
              "      <td>0.000000</td>\n",
              "      <td>0.000000</td>\n",
              "      <td>...</td>\n",
              "      <td>1</td>\n",
              "      <td>3.071419</td>\n",
              "      <td>0.028858</td>\n",
              "      <td>1.489250</td>\n",
              "      <td>1.518108</td>\n",
              "      <td>-6.028571</td>\n",
              "      <td>0</td>\n",
              "      <td>-11</td>\n",
              "      <td>3.535415</td>\n",
              "      <td>10.028571</td>\n",
              "    </tr>\n",
              "    <tr>\n",
              "      <th>1</th>\n",
              "      <td>C_ID_0001238066</td>\n",
              "      <td>3</td>\n",
              "      <td>0.0</td>\n",
              "      <td>0.000000</td>\n",
              "      <td>0.333333</td>\n",
              "      <td>0.000000</td>\n",
              "      <td>0.000000</td>\n",
              "      <td>0.0</td>\n",
              "      <td>0.666667</td>\n",
              "      <td>0.000000</td>\n",
              "      <td>...</td>\n",
              "      <td>2</td>\n",
              "      <td>5.773503</td>\n",
              "      <td>0.003609</td>\n",
              "      <td>1.514660</td>\n",
              "      <td>1.518269</td>\n",
              "      <td>-1.333333</td>\n",
              "      <td>0</td>\n",
              "      <td>-2</td>\n",
              "      <td>1.154701</td>\n",
              "      <td>10.000000</td>\n",
              "    </tr>\n",
              "    <tr>\n",
              "      <th>2</th>\n",
              "      <td>C_ID_0001506ef0</td>\n",
              "      <td>4</td>\n",
              "      <td>0.0</td>\n",
              "      <td>0.000000</td>\n",
              "      <td>0.000000</td>\n",
              "      <td>0.000000</td>\n",
              "      <td>1.000000</td>\n",
              "      <td>0.0</td>\n",
              "      <td>0.000000</td>\n",
              "      <td>0.750000</td>\n",
              "      <td>...</td>\n",
              "      <td>2</td>\n",
              "      <td>4.725816</td>\n",
              "      <td>0.022099</td>\n",
              "      <td>1.496772</td>\n",
              "      <td>1.518871</td>\n",
              "      <td>-2.500000</td>\n",
              "      <td>0</td>\n",
              "      <td>-8</td>\n",
              "      <td>3.785939</td>\n",
              "      <td>10.250000</td>\n",
              "    </tr>\n",
              "    <tr>\n",
              "      <th>3</th>\n",
              "      <td>C_ID_0001793786</td>\n",
              "      <td>27</td>\n",
              "      <td>2.0</td>\n",
              "      <td>0.074074</td>\n",
              "      <td>0.111111</td>\n",
              "      <td>0.296296</td>\n",
              "      <td>0.111111</td>\n",
              "      <td>0.0</td>\n",
              "      <td>0.000000</td>\n",
              "      <td>0.814815</td>\n",
              "      <td>...</td>\n",
              "      <td>3</td>\n",
              "      <td>2.375684</td>\n",
              "      <td>0.016780</td>\n",
              "      <td>1.488636</td>\n",
              "      <td>1.505416</td>\n",
              "      <td>-3.518519</td>\n",
              "      <td>-1</td>\n",
              "      <td>-7</td>\n",
              "      <td>2.375684</td>\n",
              "      <td>14.185185</td>\n",
              "    </tr>\n",
              "    <tr>\n",
              "      <th>4</th>\n",
              "      <td>C_ID_000183fdda</td>\n",
              "      <td>7</td>\n",
              "      <td>0.0</td>\n",
              "      <td>0.000000</td>\n",
              "      <td>0.000000</td>\n",
              "      <td>0.000000</td>\n",
              "      <td>1.000000</td>\n",
              "      <td>0.0</td>\n",
              "      <td>0.000000</td>\n",
              "      <td>0.000000</td>\n",
              "      <td>...</td>\n",
              "      <td>8</td>\n",
              "      <td>0.755929</td>\n",
              "      <td>0.006702</td>\n",
              "      <td>1.502099</td>\n",
              "      <td>1.508801</td>\n",
              "      <td>-5.714286</td>\n",
              "      <td>-4</td>\n",
              "      <td>-6</td>\n",
              "      <td>0.755929</td>\n",
              "      <td>10.000000</td>\n",
              "    </tr>\n",
              "  </tbody>\n",
              "</table>\n",
              "<p>5 rows × 39 columns</p>\n",
              "</div>"
            ],
            "text/plain": [
              "           card_id  hist_transactions_count  hist_category_1_sum  \\\n",
              "0  C_ID_00007093c1                       35                  4.0   \n",
              "1  C_ID_0001238066                        3                  0.0   \n",
              "2  C_ID_0001506ef0                        4                  0.0   \n",
              "3  C_ID_0001793786                       27                  2.0   \n",
              "4  C_ID_000183fdda                        7                  0.0   \n",
              "\n",
              "   hist_category_1_mean  hist_category_2_1.00000000_mean  \\\n",
              "0              0.114286                         0.000000   \n",
              "1              0.000000                         0.333333   \n",
              "2              0.000000                         0.000000   \n",
              "3              0.074074                         0.111111   \n",
              "4              0.000000                         0.000000   \n",
              "\n",
              "   hist_category_2_2.00000000_mean  hist_category_2_3.00000000_mean  \\\n",
              "0                         0.000000                         0.885714   \n",
              "1                         0.000000                         0.000000   \n",
              "2                         0.000000                         1.000000   \n",
              "3                         0.296296                         0.111111   \n",
              "4                         0.000000                         1.000000   \n",
              "\n",
              "   hist_category_2_4.00000000_mean  hist_category_2_5.00000000_mean  \\\n",
              "0                              0.0                         0.000000   \n",
              "1                              0.0                         0.666667   \n",
              "2                              0.0                         0.000000   \n",
              "3                              0.0                         0.000000   \n",
              "4                              0.0                         0.000000   \n",
              "\n",
              "   hist_category_3_A_mean          ...           hist_purchase_month_min  \\\n",
              "0                0.000000          ...                                 1   \n",
              "1                0.000000          ...                                 2   \n",
              "2                0.750000          ...                                 2   \n",
              "3                0.814815          ...                                 3   \n",
              "4                0.000000          ...                                 8   \n",
              "\n",
              "   hist_purchase_month_std  hist_purchase_date_ptp  hist_purchase_date_min  \\\n",
              "0                 3.071419                0.028858                1.489250   \n",
              "1                 5.773503                0.003609                1.514660   \n",
              "2                 4.725816                0.022099                1.496772   \n",
              "3                 2.375684                0.016780                1.488636   \n",
              "4                 0.755929                0.006702                1.502099   \n",
              "\n",
              "   hist_purchase_date_max  hist_month_lag_mean  hist_month_lag_max  \\\n",
              "0                1.518108            -6.028571                   0   \n",
              "1                1.518269            -1.333333                   0   \n",
              "2                1.518871            -2.500000                   0   \n",
              "3                1.505416            -3.518519                  -1   \n",
              "4                1.508801            -5.714286                  -4   \n",
              "\n",
              "   hist_month_lag_min  hist_month_lag_std  hist_month_diff_mean  \n",
              "0                 -11            3.535415             10.028571  \n",
              "1                  -2            1.154701             10.000000  \n",
              "2                  -8            3.785939             10.250000  \n",
              "3                  -7            2.375684             14.185185  \n",
              "4                  -6            0.755929             10.000000  \n",
              "\n",
              "[5 rows x 39 columns]"
            ]
          },
          "metadata": {
            "tags": []
          },
          "execution_count": 60
        }
      ]
    },
    {
      "metadata": {
        "id": "qoF2k9sqBJ_s",
        "colab_type": "code",
        "outputId": "5bbb3f2d-c8b9-4a38-bfb2-3e8eb70bee07",
        "colab": {
          "base_uri": "https://localhost:8080/",
          "height": 253
        }
      },
      "cell_type": "code",
      "source": [
        "authorized = aggregate_transactions(authorized_transactions)\n",
        "authorized.columns = ['auth_' + c if c != 'card_id' else c for c in authorized.columns]\n",
        "authorized[:5]"
      ],
      "execution_count": 0,
      "outputs": [
        {
          "output_type": "execute_result",
          "data": {
            "text/html": [
              "<div>\n",
              "<style scoped>\n",
              "    .dataframe tbody tr th:only-of-type {\n",
              "        vertical-align: middle;\n",
              "    }\n",
              "\n",
              "    .dataframe tbody tr th {\n",
              "        vertical-align: top;\n",
              "    }\n",
              "\n",
              "    .dataframe thead th {\n",
              "        text-align: right;\n",
              "    }\n",
              "</style>\n",
              "<table border=\"1\" class=\"dataframe\">\n",
              "  <thead>\n",
              "    <tr style=\"text-align: right;\">\n",
              "      <th></th>\n",
              "      <th>card_id</th>\n",
              "      <th>auth_transactions_count</th>\n",
              "      <th>auth_category_1_sum</th>\n",
              "      <th>auth_category_1_mean</th>\n",
              "      <th>auth_category_2_1.00000000_mean</th>\n",
              "      <th>auth_category_2_2.00000000_mean</th>\n",
              "      <th>auth_category_2_3.00000000_mean</th>\n",
              "      <th>auth_category_2_4.00000000_mean</th>\n",
              "      <th>auth_category_2_5.00000000_mean</th>\n",
              "      <th>auth_category_3_A_mean</th>\n",
              "      <th>...</th>\n",
              "      <th>auth_purchase_month_min</th>\n",
              "      <th>auth_purchase_month_std</th>\n",
              "      <th>auth_purchase_date_ptp</th>\n",
              "      <th>auth_purchase_date_min</th>\n",
              "      <th>auth_purchase_date_max</th>\n",
              "      <th>auth_month_lag_mean</th>\n",
              "      <th>auth_month_lag_max</th>\n",
              "      <th>auth_month_lag_min</th>\n",
              "      <th>auth_month_lag_std</th>\n",
              "      <th>auth_month_diff_mean</th>\n",
              "    </tr>\n",
              "  </thead>\n",
              "  <tbody>\n",
              "    <tr>\n",
              "      <th>0</th>\n",
              "      <td>C_ID_00007093c1</td>\n",
              "      <td>114</td>\n",
              "      <td>24.0</td>\n",
              "      <td>0.210526</td>\n",
              "      <td>0.000000</td>\n",
              "      <td>0.000000</td>\n",
              "      <td>0.780702</td>\n",
              "      <td>0.0</td>\n",
              "      <td>0.008772</td>\n",
              "      <td>0.0</td>\n",
              "      <td>...</td>\n",
              "      <td>1</td>\n",
              "      <td>3.371490</td>\n",
              "      <td>32627654.0</td>\n",
              "      <td>1.487081e+09</td>\n",
              "      <td>1.519708e+09</td>\n",
              "      <td>-5.798246</td>\n",
              "      <td>0</td>\n",
              "      <td>-12</td>\n",
              "      <td>3.441495</td>\n",
              "      <td>10.315789</td>\n",
              "    </tr>\n",
              "    <tr>\n",
              "      <th>1</th>\n",
              "      <td>C_ID_0001238066</td>\n",
              "      <td>120</td>\n",
              "      <td>2.0</td>\n",
              "      <td>0.016667</td>\n",
              "      <td>0.783333</td>\n",
              "      <td>0.000000</td>\n",
              "      <td>0.000000</td>\n",
              "      <td>0.0</td>\n",
              "      <td>0.150000</td>\n",
              "      <td>0.0</td>\n",
              "      <td>...</td>\n",
              "      <td>1</td>\n",
              "      <td>4.895483</td>\n",
              "      <td>13110825.0</td>\n",
              "      <td>1.506638e+09</td>\n",
              "      <td>1.519748e+09</td>\n",
              "      <td>-1.825000</td>\n",
              "      <td>0</td>\n",
              "      <td>-5</td>\n",
              "      <td>1.294218</td>\n",
              "      <td>10.108333</td>\n",
              "    </tr>\n",
              "    <tr>\n",
              "      <th>2</th>\n",
              "      <td>C_ID_0001506ef0</td>\n",
              "      <td>62</td>\n",
              "      <td>0.0</td>\n",
              "      <td>0.000000</td>\n",
              "      <td>0.032258</td>\n",
              "      <td>0.000000</td>\n",
              "      <td>0.967742</td>\n",
              "      <td>0.0</td>\n",
              "      <td>0.000000</td>\n",
              "      <td>1.0</td>\n",
              "      <td>...</td>\n",
              "      <td>1</td>\n",
              "      <td>4.538017</td>\n",
              "      <td>34460275.0</td>\n",
              "      <td>1.484411e+09</td>\n",
              "      <td>1.518871e+09</td>\n",
              "      <td>-4.983871</td>\n",
              "      <td>0</td>\n",
              "      <td>-13</td>\n",
              "      <td>4.248402</td>\n",
              "      <td>10.193548</td>\n",
              "    </tr>\n",
              "    <tr>\n",
              "      <th>3</th>\n",
              "      <td>C_ID_0001793786</td>\n",
              "      <td>189</td>\n",
              "      <td>0.0</td>\n",
              "      <td>0.000000</td>\n",
              "      <td>0.042328</td>\n",
              "      <td>0.359788</td>\n",
              "      <td>0.063492</td>\n",
              "      <td>0.0</td>\n",
              "      <td>0.000000</td>\n",
              "      <td>1.0</td>\n",
              "      <td>...</td>\n",
              "      <td>1</td>\n",
              "      <td>2.301491</td>\n",
              "      <td>24487497.0</td>\n",
              "      <td>1.484994e+09</td>\n",
              "      <td>1.509481e+09</td>\n",
              "      <td>-3.301587</td>\n",
              "      <td>0</td>\n",
              "      <td>-9</td>\n",
              "      <td>2.301491</td>\n",
              "      <td>14.148148</td>\n",
              "    </tr>\n",
              "    <tr>\n",
              "      <th>4</th>\n",
              "      <td>C_ID_000183fdda</td>\n",
              "      <td>137</td>\n",
              "      <td>4.0</td>\n",
              "      <td>0.029197</td>\n",
              "      <td>0.051095</td>\n",
              "      <td>0.007299</td>\n",
              "      <td>0.905109</td>\n",
              "      <td>0.0</td>\n",
              "      <td>0.007299</td>\n",
              "      <td>0.0</td>\n",
              "      <td>...</td>\n",
              "      <td>1</td>\n",
              "      <td>4.538289</td>\n",
              "      <td>15148616.0</td>\n",
              "      <td>1.504444e+09</td>\n",
              "      <td>1.519592e+09</td>\n",
              "      <td>-2.284672</td>\n",
              "      <td>0</td>\n",
              "      <td>-5</td>\n",
              "      <td>1.782055</td>\n",
              "      <td>10.145985</td>\n",
              "    </tr>\n",
              "  </tbody>\n",
              "</table>\n",
              "<p>5 rows × 39 columns</p>\n",
              "</div>"
            ],
            "text/plain": [
              "           card_id  auth_transactions_count  auth_category_1_sum  \\\n",
              "0  C_ID_00007093c1                      114                 24.0   \n",
              "1  C_ID_0001238066                      120                  2.0   \n",
              "2  C_ID_0001506ef0                       62                  0.0   \n",
              "3  C_ID_0001793786                      189                  0.0   \n",
              "4  C_ID_000183fdda                      137                  4.0   \n",
              "\n",
              "   auth_category_1_mean  auth_category_2_1.00000000_mean  \\\n",
              "0              0.210526                         0.000000   \n",
              "1              0.016667                         0.783333   \n",
              "2              0.000000                         0.032258   \n",
              "3              0.000000                         0.042328   \n",
              "4              0.029197                         0.051095   \n",
              "\n",
              "   auth_category_2_2.00000000_mean  auth_category_2_3.00000000_mean  \\\n",
              "0                         0.000000                         0.780702   \n",
              "1                         0.000000                         0.000000   \n",
              "2                         0.000000                         0.967742   \n",
              "3                         0.359788                         0.063492   \n",
              "4                         0.007299                         0.905109   \n",
              "\n",
              "   auth_category_2_4.00000000_mean  auth_category_2_5.00000000_mean  \\\n",
              "0                              0.0                         0.008772   \n",
              "1                              0.0                         0.150000   \n",
              "2                              0.0                         0.000000   \n",
              "3                              0.0                         0.000000   \n",
              "4                              0.0                         0.007299   \n",
              "\n",
              "   auth_category_3_A_mean          ...           auth_purchase_month_min  \\\n",
              "0                     0.0          ...                                 1   \n",
              "1                     0.0          ...                                 1   \n",
              "2                     1.0          ...                                 1   \n",
              "3                     1.0          ...                                 1   \n",
              "4                     0.0          ...                                 1   \n",
              "\n",
              "   auth_purchase_month_std  auth_purchase_date_ptp  auth_purchase_date_min  \\\n",
              "0                 3.371490              32627654.0            1.487081e+09   \n",
              "1                 4.895483              13110825.0            1.506638e+09   \n",
              "2                 4.538017              34460275.0            1.484411e+09   \n",
              "3                 2.301491              24487497.0            1.484994e+09   \n",
              "4                 4.538289              15148616.0            1.504444e+09   \n",
              "\n",
              "   auth_purchase_date_max  auth_month_lag_mean  auth_month_lag_max  \\\n",
              "0            1.519708e+09            -5.798246                   0   \n",
              "1            1.519748e+09            -1.825000                   0   \n",
              "2            1.518871e+09            -4.983871                   0   \n",
              "3            1.509481e+09            -3.301587                   0   \n",
              "4            1.519592e+09            -2.284672                   0   \n",
              "\n",
              "   auth_month_lag_min  auth_month_lag_std  auth_month_diff_mean  \n",
              "0                 -12            3.441495             10.315789  \n",
              "1                  -5            1.294218             10.108333  \n",
              "2                 -13            4.248402             10.193548  \n",
              "3                  -9            2.301491             14.148148  \n",
              "4                  -5            1.782055             10.145985  \n",
              "\n",
              "[5 rows x 39 columns]"
            ]
          },
          "metadata": {
            "tags": []
          },
          "execution_count": 61
        }
      ]
    },
    {
      "metadata": {
        "id": "TrKa76nMBIvA",
        "colab_type": "code",
        "outputId": "2e3a55ff-7069-48ef-c63d-cac00c75a756",
        "colab": {
          "base_uri": "https://localhost:8080/",
          "height": 253
        }
      },
      "cell_type": "code",
      "source": [
        "new = aggregate_transactions(new_transactions)\n",
        "new.columns = ['new_' + c if c != 'card_id' else c for c in new.columns]\n",
        "new[:5]"
      ],
      "execution_count": 0,
      "outputs": [
        {
          "output_type": "execute_result",
          "data": {
            "text/html": [
              "<div>\n",
              "<style scoped>\n",
              "    .dataframe tbody tr th:only-of-type {\n",
              "        vertical-align: middle;\n",
              "    }\n",
              "\n",
              "    .dataframe tbody tr th {\n",
              "        vertical-align: top;\n",
              "    }\n",
              "\n",
              "    .dataframe thead th {\n",
              "        text-align: right;\n",
              "    }\n",
              "</style>\n",
              "<table border=\"1\" class=\"dataframe\">\n",
              "  <thead>\n",
              "    <tr style=\"text-align: right;\">\n",
              "      <th></th>\n",
              "      <th>card_id</th>\n",
              "      <th>new_transactions_count</th>\n",
              "      <th>new_category_1_sum</th>\n",
              "      <th>new_category_1_mean</th>\n",
              "      <th>new_category_2_1.00000000_mean</th>\n",
              "      <th>new_category_2_2.00000000_mean</th>\n",
              "      <th>new_category_2_3.00000000_mean</th>\n",
              "      <th>new_category_2_4.00000000_mean</th>\n",
              "      <th>new_category_2_5.00000000_mean</th>\n",
              "      <th>new_category_3_A_mean</th>\n",
              "      <th>...</th>\n",
              "      <th>new_purchase_month_min</th>\n",
              "      <th>new_purchase_month_std</th>\n",
              "      <th>new_purchase_date_ptp</th>\n",
              "      <th>new_purchase_date_min</th>\n",
              "      <th>new_purchase_date_max</th>\n",
              "      <th>new_month_lag_mean</th>\n",
              "      <th>new_month_lag_max</th>\n",
              "      <th>new_month_lag_min</th>\n",
              "      <th>new_month_lag_std</th>\n",
              "      <th>new_month_diff_mean</th>\n",
              "    </tr>\n",
              "  </thead>\n",
              "  <tbody>\n",
              "    <tr>\n",
              "      <th>0</th>\n",
              "      <td>C_ID_00007093c1</td>\n",
              "      <td>2</td>\n",
              "      <td>0</td>\n",
              "      <td>0.000000</td>\n",
              "      <td>0.500000</td>\n",
              "      <td>0.000000</td>\n",
              "      <td>0.50000</td>\n",
              "      <td>0.0</td>\n",
              "      <td>0.000000</td>\n",
              "      <td>0.0</td>\n",
              "      <td>...</td>\n",
              "      <td>4</td>\n",
              "      <td>0.000000</td>\n",
              "      <td>537024.0</td>\n",
              "      <td>1.522754e+09</td>\n",
              "      <td>1.523291e+09</td>\n",
              "      <td>2.000000</td>\n",
              "      <td>2</td>\n",
              "      <td>2</td>\n",
              "      <td>0.000000</td>\n",
              "      <td>10.500000</td>\n",
              "    </tr>\n",
              "    <tr>\n",
              "      <th>1</th>\n",
              "      <td>C_ID_0001238066</td>\n",
              "      <td>26</td>\n",
              "      <td>2</td>\n",
              "      <td>0.076923</td>\n",
              "      <td>0.769231</td>\n",
              "      <td>0.000000</td>\n",
              "      <td>0.00000</td>\n",
              "      <td>0.0</td>\n",
              "      <td>0.115385</td>\n",
              "      <td>0.0</td>\n",
              "      <td>...</td>\n",
              "      <td>3</td>\n",
              "      <td>0.485165</td>\n",
              "      <td>5195343.0</td>\n",
              "      <td>1.519923e+09</td>\n",
              "      <td>1.525118e+09</td>\n",
              "      <td>1.346154</td>\n",
              "      <td>2</td>\n",
              "      <td>1</td>\n",
              "      <td>0.485165</td>\n",
              "      <td>10.153846</td>\n",
              "    </tr>\n",
              "    <tr>\n",
              "      <th>2</th>\n",
              "      <td>C_ID_0001506ef0</td>\n",
              "      <td>2</td>\n",
              "      <td>0</td>\n",
              "      <td>0.000000</td>\n",
              "      <td>0.000000</td>\n",
              "      <td>0.000000</td>\n",
              "      <td>1.00000</td>\n",
              "      <td>0.0</td>\n",
              "      <td>0.000000</td>\n",
              "      <td>1.0</td>\n",
              "      <td>...</td>\n",
              "      <td>3</td>\n",
              "      <td>0.000000</td>\n",
              "      <td>471152.0</td>\n",
              "      <td>1.521239e+09</td>\n",
              "      <td>1.521710e+09</td>\n",
              "      <td>1.000000</td>\n",
              "      <td>1</td>\n",
              "      <td>1</td>\n",
              "      <td>0.000000</td>\n",
              "      <td>10.000000</td>\n",
              "    </tr>\n",
              "    <tr>\n",
              "      <th>3</th>\n",
              "      <td>C_ID_0001793786</td>\n",
              "      <td>31</td>\n",
              "      <td>0</td>\n",
              "      <td>0.000000</td>\n",
              "      <td>0.483871</td>\n",
              "      <td>0.258065</td>\n",
              "      <td>0.16129</td>\n",
              "      <td>0.0</td>\n",
              "      <td>0.032258</td>\n",
              "      <td>1.0</td>\n",
              "      <td>...</td>\n",
              "      <td>11</td>\n",
              "      <td>0.475191</td>\n",
              "      <td>3981096.0</td>\n",
              "      <td>1.510761e+09</td>\n",
              "      <td>1.514742e+09</td>\n",
              "      <td>1.322581</td>\n",
              "      <td>2</td>\n",
              "      <td>1</td>\n",
              "      <td>0.475191</td>\n",
              "      <td>14.000000</td>\n",
              "    </tr>\n",
              "    <tr>\n",
              "      <th>4</th>\n",
              "      <td>C_ID_000183fdda</td>\n",
              "      <td>11</td>\n",
              "      <td>0</td>\n",
              "      <td>0.000000</td>\n",
              "      <td>0.000000</td>\n",
              "      <td>0.000000</td>\n",
              "      <td>1.00000</td>\n",
              "      <td>0.0</td>\n",
              "      <td>0.000000</td>\n",
              "      <td>0.0</td>\n",
              "      <td>...</td>\n",
              "      <td>3</td>\n",
              "      <td>0.467099</td>\n",
              "      <td>5106807.0</td>\n",
              "      <td>1.519994e+09</td>\n",
              "      <td>1.525100e+09</td>\n",
              "      <td>1.272727</td>\n",
              "      <td>2</td>\n",
              "      <td>1</td>\n",
              "      <td>0.467099</td>\n",
              "      <td>10.272727</td>\n",
              "    </tr>\n",
              "  </tbody>\n",
              "</table>\n",
              "<p>5 rows × 39 columns</p>\n",
              "</div>"
            ],
            "text/plain": [
              "           card_id  new_transactions_count  new_category_1_sum  \\\n",
              "0  C_ID_00007093c1                       2                   0   \n",
              "1  C_ID_0001238066                      26                   2   \n",
              "2  C_ID_0001506ef0                       2                   0   \n",
              "3  C_ID_0001793786                      31                   0   \n",
              "4  C_ID_000183fdda                      11                   0   \n",
              "\n",
              "   new_category_1_mean  new_category_2_1.00000000_mean  \\\n",
              "0             0.000000                        0.500000   \n",
              "1             0.076923                        0.769231   \n",
              "2             0.000000                        0.000000   \n",
              "3             0.000000                        0.483871   \n",
              "4             0.000000                        0.000000   \n",
              "\n",
              "   new_category_2_2.00000000_mean  new_category_2_3.00000000_mean  \\\n",
              "0                        0.000000                         0.50000   \n",
              "1                        0.000000                         0.00000   \n",
              "2                        0.000000                         1.00000   \n",
              "3                        0.258065                         0.16129   \n",
              "4                        0.000000                         1.00000   \n",
              "\n",
              "   new_category_2_4.00000000_mean  new_category_2_5.00000000_mean  \\\n",
              "0                             0.0                        0.000000   \n",
              "1                             0.0                        0.115385   \n",
              "2                             0.0                        0.000000   \n",
              "3                             0.0                        0.032258   \n",
              "4                             0.0                        0.000000   \n",
              "\n",
              "   new_category_3_A_mean         ...           new_purchase_month_min  \\\n",
              "0                    0.0         ...                                4   \n",
              "1                    0.0         ...                                3   \n",
              "2                    1.0         ...                                3   \n",
              "3                    1.0         ...                               11   \n",
              "4                    0.0         ...                                3   \n",
              "\n",
              "   new_purchase_month_std  new_purchase_date_ptp  new_purchase_date_min  \\\n",
              "0                0.000000               537024.0           1.522754e+09   \n",
              "1                0.485165              5195343.0           1.519923e+09   \n",
              "2                0.000000               471152.0           1.521239e+09   \n",
              "3                0.475191              3981096.0           1.510761e+09   \n",
              "4                0.467099              5106807.0           1.519994e+09   \n",
              "\n",
              "   new_purchase_date_max  new_month_lag_mean  new_month_lag_max  \\\n",
              "0           1.523291e+09            2.000000                  2   \n",
              "1           1.525118e+09            1.346154                  2   \n",
              "2           1.521710e+09            1.000000                  1   \n",
              "3           1.514742e+09            1.322581                  2   \n",
              "4           1.525100e+09            1.272727                  2   \n",
              "\n",
              "   new_month_lag_min  new_month_lag_std  new_month_diff_mean  \n",
              "0                  2           0.000000            10.500000  \n",
              "1                  1           0.485165            10.153846  \n",
              "2                  1           0.000000            10.000000  \n",
              "3                  1           0.475191            14.000000  \n",
              "4                  1           0.467099            10.272727  \n",
              "\n",
              "[5 rows x 39 columns]"
            ]
          },
          "metadata": {
            "tags": []
          },
          "execution_count": 62
        }
      ]
    },
    {
      "metadata": {
        "id": "jLxu3W7jCJqE",
        "colab_type": "text"
      },
      "cell_type": "markdown",
      "source": [
        "Second grouping function"
      ]
    },
    {
      "metadata": {
        "id": "H37aMrYLBI1c",
        "colab_type": "code",
        "outputId": "acbcb1cb-4077-40f4-af53-ba76eb1b83c2",
        "colab": {
          "base_uri": "https://localhost:8080/",
          "height": 408
        }
      },
      "cell_type": "code",
      "source": [
        "def aggregate_per_month(history):\n",
        "    grouped = history.groupby(['card_id', 'month_lag'])\n",
        "\n",
        "    agg_func = {\n",
        "            'purchase_amount': ['count', 'sum', 'mean', 'min', 'max', 'std'],\n",
        "            'installments': ['count', 'sum', 'mean', 'min', 'max', 'std'],\n",
        "            }\n",
        "\n",
        "    intermediate_group = grouped.agg(agg_func)\n",
        "    intermediate_group.columns = ['_'.join(col).strip() for col in intermediate_group.columns.values]\n",
        "    intermediate_group.reset_index(inplace=True)\n",
        "\n",
        "    final_group = intermediate_group.groupby('card_id').agg(['mean', 'std'])\n",
        "    final_group.columns = ['_'.join(col).strip() for col in final_group.columns.values]\n",
        "    final_group.reset_index(inplace=True)\n",
        "    \n",
        "    return final_group\n",
        "#___________________________________________________________\n",
        "final_group =  aggregate_per_month(authorized_transactions) \n",
        "final_group[:10]"
      ],
      "execution_count": 0,
      "outputs": [
        {
          "output_type": "execute_result",
          "data": {
            "text/html": [
              "<div>\n",
              "<style scoped>\n",
              "    .dataframe tbody tr th:only-of-type {\n",
              "        vertical-align: middle;\n",
              "    }\n",
              "\n",
              "    .dataframe tbody tr th {\n",
              "        vertical-align: top;\n",
              "    }\n",
              "\n",
              "    .dataframe thead th {\n",
              "        text-align: right;\n",
              "    }\n",
              "</style>\n",
              "<table border=\"1\" class=\"dataframe\">\n",
              "  <thead>\n",
              "    <tr style=\"text-align: right;\">\n",
              "      <th></th>\n",
              "      <th>card_id</th>\n",
              "      <th>month_lag_mean</th>\n",
              "      <th>month_lag_std</th>\n",
              "      <th>purchase_amount_count_mean</th>\n",
              "      <th>purchase_amount_count_std</th>\n",
              "      <th>purchase_amount_sum_mean</th>\n",
              "      <th>purchase_amount_sum_std</th>\n",
              "      <th>purchase_amount_mean_mean</th>\n",
              "      <th>purchase_amount_mean_std</th>\n",
              "      <th>purchase_amount_min_mean</th>\n",
              "      <th>...</th>\n",
              "      <th>installments_sum_mean</th>\n",
              "      <th>installments_sum_std</th>\n",
              "      <th>installments_mean_mean</th>\n",
              "      <th>installments_mean_std</th>\n",
              "      <th>installments_min_mean</th>\n",
              "      <th>installments_min_std</th>\n",
              "      <th>installments_max_mean</th>\n",
              "      <th>installments_max_std</th>\n",
              "      <th>installments_std_mean</th>\n",
              "      <th>installments_std_std</th>\n",
              "    </tr>\n",
              "  </thead>\n",
              "  <tbody>\n",
              "    <tr>\n",
              "      <th>0</th>\n",
              "      <td>C_ID_00007093c1</td>\n",
              "      <td>-6.000000</td>\n",
              "      <td>3.894440</td>\n",
              "      <td>8.769231</td>\n",
              "      <td>3.539158</td>\n",
              "      <td>-4.803313</td>\n",
              "      <td>2.175011</td>\n",
              "      <td>-0.536131</td>\n",
              "      <td>0.075418</td>\n",
              "      <td>-0.702649</td>\n",
              "      <td>...</td>\n",
              "      <td>11.307692</td>\n",
              "      <td>4.210792</td>\n",
              "      <td>1.369646</td>\n",
              "      <td>0.423190</td>\n",
              "      <td>1.000000</td>\n",
              "      <td>0.000000</td>\n",
              "      <td>2.538462</td>\n",
              "      <td>1.613246</td>\n",
              "      <td>0.625428</td>\n",
              "      <td>0.675607</td>\n",
              "    </tr>\n",
              "    <tr>\n",
              "      <th>1</th>\n",
              "      <td>C_ID_0001238066</td>\n",
              "      <td>-2.500000</td>\n",
              "      <td>1.870829</td>\n",
              "      <td>20.000000</td>\n",
              "      <td>11.696153</td>\n",
              "      <td>-11.776212</td>\n",
              "      <td>6.676914</td>\n",
              "      <td>-0.603215</td>\n",
              "      <td>0.046045</td>\n",
              "      <td>-0.730351</td>\n",
              "      <td>...</td>\n",
              "      <td>32.500000</td>\n",
              "      <td>24.501020</td>\n",
              "      <td>1.652873</td>\n",
              "      <td>0.410539</td>\n",
              "      <td>0.666667</td>\n",
              "      <td>0.816497</td>\n",
              "      <td>4.666667</td>\n",
              "      <td>2.875181</td>\n",
              "      <td>1.256525</td>\n",
              "      <td>0.521292</td>\n",
              "    </tr>\n",
              "    <tr>\n",
              "      <th>2</th>\n",
              "      <td>C_ID_0001506ef0</td>\n",
              "      <td>-6.230769</td>\n",
              "      <td>4.225988</td>\n",
              "      <td>4.769231</td>\n",
              "      <td>4.342692</td>\n",
              "      <td>-2.438161</td>\n",
              "      <td>2.902502</td>\n",
              "      <td>-0.446660</td>\n",
              "      <td>0.271125</td>\n",
              "      <td>-0.725724</td>\n",
              "      <td>...</td>\n",
              "      <td>0.000000</td>\n",
              "      <td>0.000000</td>\n",
              "      <td>0.000000</td>\n",
              "      <td>0.000000</td>\n",
              "      <td>0.000000</td>\n",
              "      <td>0.000000</td>\n",
              "      <td>0.000000</td>\n",
              "      <td>0.000000</td>\n",
              "      <td>0.000000</td>\n",
              "      <td>0.000000</td>\n",
              "    </tr>\n",
              "    <tr>\n",
              "      <th>3</th>\n",
              "      <td>C_ID_0001793786</td>\n",
              "      <td>-4.500000</td>\n",
              "      <td>3.027650</td>\n",
              "      <td>18.900000</td>\n",
              "      <td>12.160501</td>\n",
              "      <td>-2.496067</td>\n",
              "      <td>4.018810</td>\n",
              "      <td>-0.005687</td>\n",
              "      <td>0.271221</td>\n",
              "      <td>-0.646277</td>\n",
              "      <td>...</td>\n",
              "      <td>0.000000</td>\n",
              "      <td>0.000000</td>\n",
              "      <td>0.000000</td>\n",
              "      <td>0.000000</td>\n",
              "      <td>0.000000</td>\n",
              "      <td>0.000000</td>\n",
              "      <td>0.000000</td>\n",
              "      <td>0.000000</td>\n",
              "      <td>0.000000</td>\n",
              "      <td>0.000000</td>\n",
              "    </tr>\n",
              "    <tr>\n",
              "      <th>4</th>\n",
              "      <td>C_ID_000183fdda</td>\n",
              "      <td>-2.500000</td>\n",
              "      <td>1.870829</td>\n",
              "      <td>22.833333</td>\n",
              "      <td>7.167054</td>\n",
              "      <td>-11.316092</td>\n",
              "      <td>4.800612</td>\n",
              "      <td>-0.489227</td>\n",
              "      <td>0.141015</td>\n",
              "      <td>-0.728405</td>\n",
              "      <td>...</td>\n",
              "      <td>40.833333</td>\n",
              "      <td>14.048725</td>\n",
              "      <td>1.834943</td>\n",
              "      <td>0.362557</td>\n",
              "      <td>0.333333</td>\n",
              "      <td>1.032796</td>\n",
              "      <td>9.166667</td>\n",
              "      <td>2.041241</td>\n",
              "      <td>2.144389</td>\n",
              "      <td>0.665529</td>\n",
              "    </tr>\n",
              "    <tr>\n",
              "      <th>5</th>\n",
              "      <td>C_ID_00024e244b</td>\n",
              "      <td>-6.384615</td>\n",
              "      <td>4.330867</td>\n",
              "      <td>4.076923</td>\n",
              "      <td>4.290717</td>\n",
              "      <td>-2.557395</td>\n",
              "      <td>2.089708</td>\n",
              "      <td>-0.685118</td>\n",
              "      <td>0.071894</td>\n",
              "      <td>-0.728885</td>\n",
              "      <td>...</td>\n",
              "      <td>0.000000</td>\n",
              "      <td>0.000000</td>\n",
              "      <td>0.000000</td>\n",
              "      <td>0.000000</td>\n",
              "      <td>0.000000</td>\n",
              "      <td>0.000000</td>\n",
              "      <td>0.000000</td>\n",
              "      <td>0.000000</td>\n",
              "      <td>0.000000</td>\n",
              "      <td>0.000000</td>\n",
              "    </tr>\n",
              "    <tr>\n",
              "      <th>6</th>\n",
              "      <td>C_ID_0002709b5a</td>\n",
              "      <td>-5.000000</td>\n",
              "      <td>3.316625</td>\n",
              "      <td>6.090909</td>\n",
              "      <td>3.505839</td>\n",
              "      <td>-3.994622</td>\n",
              "      <td>2.440540</td>\n",
              "      <td>-0.638637</td>\n",
              "      <td>0.060836</td>\n",
              "      <td>-0.700104</td>\n",
              "      <td>...</td>\n",
              "      <td>10.727273</td>\n",
              "      <td>8.427229</td>\n",
              "      <td>1.965729</td>\n",
              "      <td>1.287108</td>\n",
              "      <td>0.818182</td>\n",
              "      <td>0.603023</td>\n",
              "      <td>3.818182</td>\n",
              "      <td>3.341203</td>\n",
              "      <td>1.600058</td>\n",
              "      <td>1.734256</td>\n",
              "    </tr>\n",
              "    <tr>\n",
              "      <th>7</th>\n",
              "      <td>C_ID_00027503e2</td>\n",
              "      <td>-4.000000</td>\n",
              "      <td>2.738613</td>\n",
              "      <td>2.666667</td>\n",
              "      <td>1.224745</td>\n",
              "      <td>-1.974976</td>\n",
              "      <td>0.909524</td>\n",
              "      <td>-0.740077</td>\n",
              "      <td>0.002424</td>\n",
              "      <td>-0.742206</td>\n",
              "      <td>...</td>\n",
              "      <td>0.000000</td>\n",
              "      <td>0.000000</td>\n",
              "      <td>0.000000</td>\n",
              "      <td>0.000000</td>\n",
              "      <td>0.000000</td>\n",
              "      <td>0.000000</td>\n",
              "      <td>0.000000</td>\n",
              "      <td>0.000000</td>\n",
              "      <td>0.000000</td>\n",
              "      <td>0.000000</td>\n",
              "    </tr>\n",
              "    <tr>\n",
              "      <th>8</th>\n",
              "      <td>C_ID_000298032a</td>\n",
              "      <td>-5.250000</td>\n",
              "      <td>4.334249</td>\n",
              "      <td>3.500000</td>\n",
              "      <td>1.772811</td>\n",
              "      <td>-1.844563</td>\n",
              "      <td>0.699127</td>\n",
              "      <td>-0.590214</td>\n",
              "      <td>0.168008</td>\n",
              "      <td>-0.686623</td>\n",
              "      <td>...</td>\n",
              "      <td>0.000000</td>\n",
              "      <td>0.000000</td>\n",
              "      <td>0.000000</td>\n",
              "      <td>0.000000</td>\n",
              "      <td>0.000000</td>\n",
              "      <td>0.000000</td>\n",
              "      <td>0.000000</td>\n",
              "      <td>0.000000</td>\n",
              "      <td>0.000000</td>\n",
              "      <td>0.000000</td>\n",
              "    </tr>\n",
              "    <tr>\n",
              "      <th>9</th>\n",
              "      <td>C_ID_0002ba3c2e</td>\n",
              "      <td>-4.666667</td>\n",
              "      <td>3.141125</td>\n",
              "      <td>9.166667</td>\n",
              "      <td>4.665476</td>\n",
              "      <td>-5.843051</td>\n",
              "      <td>3.021165</td>\n",
              "      <td>-0.638037</td>\n",
              "      <td>0.044976</td>\n",
              "      <td>-0.721448</td>\n",
              "      <td>...</td>\n",
              "      <td>0.000000</td>\n",
              "      <td>0.000000</td>\n",
              "      <td>0.000000</td>\n",
              "      <td>0.000000</td>\n",
              "      <td>0.000000</td>\n",
              "      <td>0.000000</td>\n",
              "      <td>0.000000</td>\n",
              "      <td>0.000000</td>\n",
              "      <td>0.000000</td>\n",
              "      <td>0.000000</td>\n",
              "    </tr>\n",
              "  </tbody>\n",
              "</table>\n",
              "<p>10 rows × 27 columns</p>\n",
              "</div>"
            ],
            "text/plain": [
              "           card_id  month_lag_mean  month_lag_std  purchase_amount_count_mean  \\\n",
              "0  C_ID_00007093c1       -6.000000       3.894440                    8.769231   \n",
              "1  C_ID_0001238066       -2.500000       1.870829                   20.000000   \n",
              "2  C_ID_0001506ef0       -6.230769       4.225988                    4.769231   \n",
              "3  C_ID_0001793786       -4.500000       3.027650                   18.900000   \n",
              "4  C_ID_000183fdda       -2.500000       1.870829                   22.833333   \n",
              "5  C_ID_00024e244b       -6.384615       4.330867                    4.076923   \n",
              "6  C_ID_0002709b5a       -5.000000       3.316625                    6.090909   \n",
              "7  C_ID_00027503e2       -4.000000       2.738613                    2.666667   \n",
              "8  C_ID_000298032a       -5.250000       4.334249                    3.500000   \n",
              "9  C_ID_0002ba3c2e       -4.666667       3.141125                    9.166667   \n",
              "\n",
              "   purchase_amount_count_std  purchase_amount_sum_mean  \\\n",
              "0                   3.539158                 -4.803313   \n",
              "1                  11.696153                -11.776212   \n",
              "2                   4.342692                 -2.438161   \n",
              "3                  12.160501                 -2.496067   \n",
              "4                   7.167054                -11.316092   \n",
              "5                   4.290717                 -2.557395   \n",
              "6                   3.505839                 -3.994622   \n",
              "7                   1.224745                 -1.974976   \n",
              "8                   1.772811                 -1.844563   \n",
              "9                   4.665476                 -5.843051   \n",
              "\n",
              "   purchase_amount_sum_std  purchase_amount_mean_mean  \\\n",
              "0                 2.175011                  -0.536131   \n",
              "1                 6.676914                  -0.603215   \n",
              "2                 2.902502                  -0.446660   \n",
              "3                 4.018810                  -0.005687   \n",
              "4                 4.800612                  -0.489227   \n",
              "5                 2.089708                  -0.685118   \n",
              "6                 2.440540                  -0.638637   \n",
              "7                 0.909524                  -0.740077   \n",
              "8                 0.699127                  -0.590214   \n",
              "9                 3.021165                  -0.638037   \n",
              "\n",
              "   purchase_amount_mean_std  purchase_amount_min_mean          ...           \\\n",
              "0                  0.075418                 -0.702649          ...            \n",
              "1                  0.046045                 -0.730351          ...            \n",
              "2                  0.271125                 -0.725724          ...            \n",
              "3                  0.271221                 -0.646277          ...            \n",
              "4                  0.141015                 -0.728405          ...            \n",
              "5                  0.071894                 -0.728885          ...            \n",
              "6                  0.060836                 -0.700104          ...            \n",
              "7                  0.002424                 -0.742206          ...            \n",
              "8                  0.168008                 -0.686623          ...            \n",
              "9                  0.044976                 -0.721448          ...            \n",
              "\n",
              "   installments_sum_mean  installments_sum_std  installments_mean_mean  \\\n",
              "0              11.307692              4.210792                1.369646   \n",
              "1              32.500000             24.501020                1.652873   \n",
              "2               0.000000              0.000000                0.000000   \n",
              "3               0.000000              0.000000                0.000000   \n",
              "4              40.833333             14.048725                1.834943   \n",
              "5               0.000000              0.000000                0.000000   \n",
              "6              10.727273              8.427229                1.965729   \n",
              "7               0.000000              0.000000                0.000000   \n",
              "8               0.000000              0.000000                0.000000   \n",
              "9               0.000000              0.000000                0.000000   \n",
              "\n",
              "   installments_mean_std  installments_min_mean  installments_min_std  \\\n",
              "0               0.423190               1.000000              0.000000   \n",
              "1               0.410539               0.666667              0.816497   \n",
              "2               0.000000               0.000000              0.000000   \n",
              "3               0.000000               0.000000              0.000000   \n",
              "4               0.362557               0.333333              1.032796   \n",
              "5               0.000000               0.000000              0.000000   \n",
              "6               1.287108               0.818182              0.603023   \n",
              "7               0.000000               0.000000              0.000000   \n",
              "8               0.000000               0.000000              0.000000   \n",
              "9               0.000000               0.000000              0.000000   \n",
              "\n",
              "   installments_max_mean  installments_max_std  installments_std_mean  \\\n",
              "0               2.538462              1.613246               0.625428   \n",
              "1               4.666667              2.875181               1.256525   \n",
              "2               0.000000              0.000000               0.000000   \n",
              "3               0.000000              0.000000               0.000000   \n",
              "4               9.166667              2.041241               2.144389   \n",
              "5               0.000000              0.000000               0.000000   \n",
              "6               3.818182              3.341203               1.600058   \n",
              "7               0.000000              0.000000               0.000000   \n",
              "8               0.000000              0.000000               0.000000   \n",
              "9               0.000000              0.000000               0.000000   \n",
              "\n",
              "   installments_std_std  \n",
              "0              0.675607  \n",
              "1              0.521292  \n",
              "2              0.000000  \n",
              "3              0.000000  \n",
              "4              0.665529  \n",
              "5              0.000000  \n",
              "6              1.734256  \n",
              "7              0.000000  \n",
              "8              0.000000  \n",
              "9              0.000000  \n",
              "\n",
              "[10 rows x 27 columns]"
            ]
          },
          "metadata": {
            "tags": []
          },
          "execution_count": 63
        }
      ]
    },
    {
      "metadata": {
        "id": "GUfufqorBI7B",
        "colab_type": "code",
        "colab": {}
      },
      "cell_type": "code",
      "source": [
        "def successive_aggregates(df, field1, field2):\n",
        "    t = df.groupby(['card_id', field1])[field2].mean()\n",
        "    u = pd.DataFrame(t).reset_index().groupby('card_id')[field2].agg(['mean', 'min', 'max', 'std'])\n",
        "    u.columns = [field1 + '_' + field2 + '_' + col for col in u.columns.values]\n",
        "    u.reset_index(inplace=True)\n",
        "    return u"
      ],
      "execution_count": 0,
      "outputs": []
    },
    {
      "metadata": {
        "id": "xxmU_WpbDW3r",
        "colab_type": "code",
        "colab": {}
      },
      "cell_type": "code",
      "source": [
        "additional_fields = successive_aggregates(new_transactions, 'category_1', 'purchase_amount')\n",
        "additional_fields = additional_fields.merge(successive_aggregates(new_transactions, 'installments', 'purchase_amount'),\n",
        "                                            on = 'card_id', how='left')\n",
        "additional_fields = additional_fields.merge(successive_aggregates(new_transactions, 'city_id', 'purchase_amount'),\n",
        "                                            on = 'card_id', how='left')\n",
        "additional_fields = additional_fields.merge(successive_aggregates(new_transactions, 'category_1', 'installments'),\n",
        "                                            on = 'card_id', how='left')"
      ],
      "execution_count": 0,
      "outputs": []
    },
    {
      "metadata": {
        "id": "T6vmCp-VDX5X",
        "colab_type": "code",
        "colab": {}
      },
      "cell_type": "code",
      "source": [
        "history.index = history['card_id']\n",
        "del history['card_id']\n",
        "\n",
        "authorized.index = authorized['card_id']\n",
        "del authorized['card_id']\n",
        "\n",
        "new.index = new['card_id']\n",
        "del new['card_id']\n",
        "\n",
        "final_group.index = final_group['card_id']\n",
        "del final_group['card_id']\n",
        "\n",
        "auth_mean.index = auth_mean['card_id']\n",
        "del auth_mean['card_id']\n",
        "\n",
        "additional_fields.index = additional_fields['card_id']\n",
        "del additional_fields['card_id']"
      ],
      "execution_count": 0,
      "outputs": []
    },
    {
      "metadata": {
        "id": "NV2VtbMjE3ni",
        "colab_type": "code",
        "colab": {}
      },
      "cell_type": "code",
      "source": [
        ""
      ],
      "execution_count": 0,
      "outputs": []
    },
    {
      "metadata": {
        "id": "SPyZm6dDGsl8",
        "colab_type": "code",
        "colab": {}
      },
      "cell_type": "code",
      "source": [
        "train = pd.merge(train, history, left_index = True, right_index = True, how='left')\n",
        "test = pd.merge(test, history, left_index = True, right_index = True, how='left')\n",
        "\n",
        "train = pd.merge(train, authorized, left_index = True, right_index = True,  how='left')\n",
        "test = pd.merge(test, authorized, left_index = True, right_index = True,  how='left')\n",
        "\n",
        "train = pd.merge(train, new, left_index = True, right_index = True,  how='left')\n",
        "test = pd.merge(test, new, left_index = True, right_index = True,  how='left')\n",
        "\n",
        "train = pd.merge(train, final_group, left_index = True, right_index = True,  how='left')\n",
        "test = pd.merge(test, final_group, left_index = True, right_index = True,  how='left')\n",
        "\n",
        "train = pd.merge(train, auth_mean, left_index = True, right_index = True,  how='left')\n",
        "test = pd.merge(test, auth_mean, left_index = True, right_index = True,  how='left')\n",
        "\n",
        "train = pd.merge(train, additional_fields, left_index = True, right_index = True,  how='left')\n",
        "test = pd.merge(test, additional_fields, left_index = True, right_index = True,  how='left')"
      ],
      "execution_count": 0,
      "outputs": []
    },
    {
      "metadata": {
        "id": "kBC0B4YJIFZz",
        "colab_type": "code",
        "outputId": "cc812898-ae89-49ab-d002-8376cf923c0c",
        "colab": {
          "base_uri": "https://localhost:8080/",
          "height": 34
        }
      },
      "cell_type": "code",
      "source": [
        "train.shape"
      ],
      "execution_count": 0,
      "outputs": [
        {
          "output_type": "execute_result",
          "data": {
            "text/plain": [
              "(201917, 161)"
            ]
          },
          "metadata": {
            "tags": []
          },
          "execution_count": 93
        }
      ]
    },
    {
      "metadata": {
        "id": "KjhZd5PPDrAJ",
        "colab_type": "text"
      },
      "cell_type": "markdown",
      "source": [
        "Training"
      ]
    },
    {
      "metadata": {
        "id": "pAv0Di2hIHaH",
        "colab_type": "code",
        "colab": {}
      },
      "cell_type": "code",
      "source": [
        "param = {'num_leaves': 111,\n",
        "         'min_data_in_leaf': 149, \n",
        "         'objective':'regression',\n",
        "         'max_depth': 9,\n",
        "         'learning_rate': 0.005,\n",
        "         \"boosting\": \"gbdt\",\n",
        "         \"feature_fraction\": 0.7522,\n",
        "         \"bagging_freq\": 1,\n",
        "         \"bagging_fraction\": 0.7083 ,\n",
        "         \"bagging_seed\": 11,\n",
        "         \"metric\": 'rmse',\n",
        "         \"lambda_l1\": 0.2634,\n",
        "         \"random_state\": 133,\n",
        "         \"verbosity\": -1}"
      ],
      "execution_count": 0,
      "outputs": []
    },
    {
      "metadata": {
        "id": "a5QDKDnxJaqd",
        "colab_type": "code",
        "colab": {}
      },
      "cell_type": "code",
      "source": [
        "features = [c for c in train.columns if c not in ['card_id', 'first_active_month']]\n",
        "#features = [f for f in features if f not in unimportant_features]\n",
        "categorical_feats = ['feature_2', 'feature_3']"
      ],
      "execution_count": 0,
      "outputs": []
    },
    {
      "metadata": {
        "id": "UrFGNuAoJbo2",
        "colab_type": "code",
        "colab": {}
      },
      "cell_type": "code",
      "source": [
        ""
      ],
      "execution_count": 0,
      "outputs": []
    },
    {
      "metadata": {
        "id": "-C9ur9-xDvIQ",
        "colab_type": "code",
        "outputId": "e6125fc2-2427-4aaa-8b7b-cce008bbba64",
        "colab": {
          "base_uri": "https://localhost:8080/",
          "height": 1887
        }
      },
      "cell_type": "code",
      "source": [
        "folds = KFold(n_splits=5, shuffle=True, random_state=15)\n",
        "oof = np.zeros(len(train))\n",
        "predictions = np.zeros(len(test))\n",
        "\n",
        "start = time.time()\n",
        "feature_importance_df = pd.DataFrame()\n",
        "\n",
        "for fold_, (trn_idx, val_idx) in enumerate(folds.split(train.values, target.values)):\n",
        "    print(\"fold n°{}\".format(fold_))\n",
        "    trn_data = lgb.Dataset(train.iloc[trn_idx][features],\n",
        "                           label=target.iloc[trn_idx],\n",
        "                           categorical_feature=categorical_feats\n",
        "                          )\n",
        "    val_data = lgb.Dataset(train.iloc[val_idx][features],\n",
        "                           label=target.iloc[val_idx],\n",
        "                           categorical_feature=categorical_feats\n",
        "                          )\n",
        "\n",
        "    num_round = 10000\n",
        "    clf = lgb.train(param,\n",
        "                    trn_data,\n",
        "                    num_round,\n",
        "                    valid_sets = [trn_data, val_data],\n",
        "                    verbose_eval=100,\n",
        "                    early_stopping_rounds = 200)\n",
        "    \n",
        "    oof[val_idx] = clf.predict(train.iloc[val_idx][features], num_iteration=clf.best_iteration)\n",
        "    \n",
        "    fold_importance_df = pd.DataFrame()\n",
        "    fold_importance_df[\"feature\"] = features\n",
        "    fold_importance_df[\"importance\"] = clf.feature_importance()\n",
        "    fold_importance_df[\"fold\"] = fold_ + 1\n",
        "    feature_importance_df = pd.concat([feature_importance_df, fold_importance_df], axis=0)\n",
        "    \n",
        "    predictions += clf.predict(test[features], num_iteration=clf.best_iteration) / folds.n_splits\n",
        "\n",
        "print(\"CV score: {:<8.5f}\".format(mean_squared_error(oof, target)**0.5))"
      ],
      "execution_count": 0,
      "outputs": [
        {
          "output_type": "stream",
          "text": [
            "fold n°0\n"
          ],
          "name": "stdout"
        },
        {
          "output_type": "stream",
          "text": [
            "/usr/local/lib/python3.6/dist-packages/lightgbm/basic.py:1186: UserWarning: Using categorical_feature in Dataset.\n",
            "  warnings.warn('Using categorical_feature in Dataset.')\n",
            "/usr/local/lib/python3.6/dist-packages/lightgbm/basic.py:752: UserWarning: categorical_feature in param dict is overridden.\n",
            "  warnings.warn('categorical_feature in param dict is overridden.')\n"
          ],
          "name": "stderr"
        },
        {
          "output_type": "stream",
          "text": [
            "Training until validation scores don't improve for 200 rounds.\n",
            "[100]\ttraining's rmse: 3.71482\tvalid_1's rmse: 3.77687\n",
            "[200]\ttraining's rmse: 3.6452\tvalid_1's rmse: 3.72851\n",
            "[300]\ttraining's rmse: 3.6016\tvalid_1's rmse: 3.70492\n",
            "[400]\ttraining's rmse: 3.5706\tvalid_1's rmse: 3.69259\n",
            "[500]\ttraining's rmse: 3.54672\tvalid_1's rmse: 3.68555\n",
            "[600]\ttraining's rmse: 3.52818\tvalid_1's rmse: 3.68053\n",
            "[700]\ttraining's rmse: 3.51298\tvalid_1's rmse: 3.6779\n",
            "[800]\ttraining's rmse: 3.49837\tvalid_1's rmse: 3.67568\n",
            "[900]\ttraining's rmse: 3.48484\tvalid_1's rmse: 3.67436\n",
            "[1000]\ttraining's rmse: 3.47302\tvalid_1's rmse: 3.67359\n",
            "[1100]\ttraining's rmse: 3.46096\tvalid_1's rmse: 3.67261\n",
            "[1200]\ttraining's rmse: 3.44977\tvalid_1's rmse: 3.6723\n",
            "[1300]\ttraining's rmse: 3.43912\tvalid_1's rmse: 3.6723\n",
            "[1400]\ttraining's rmse: 3.42847\tvalid_1's rmse: 3.67176\n",
            "[1500]\ttraining's rmse: 3.41829\tvalid_1's rmse: 3.67177\n",
            "[1600]\ttraining's rmse: 3.40811\tvalid_1's rmse: 3.6715\n",
            "[1700]\ttraining's rmse: 3.39807\tvalid_1's rmse: 3.67133\n",
            "[1800]\ttraining's rmse: 3.38904\tvalid_1's rmse: 3.67138\n",
            "Early stopping, best iteration is:\n",
            "[1698]\ttraining's rmse: 3.39827\tvalid_1's rmse: 3.6713\n",
            "fold n°1\n",
            "Training until validation scores don't improve for 200 rounds.\n",
            "[100]\ttraining's rmse: 3.73169\tvalid_1's rmse: 3.70584\n",
            "[200]\ttraining's rmse: 3.66067\tvalid_1's rmse: 3.66092\n",
            "[300]\ttraining's rmse: 3.61606\tvalid_1's rmse: 3.64013\n",
            "[400]\ttraining's rmse: 3.58422\tvalid_1's rmse: 3.63036\n",
            "[500]\ttraining's rmse: 3.56021\tvalid_1's rmse: 3.62484\n",
            "[600]\ttraining's rmse: 3.54123\tvalid_1's rmse: 3.622\n",
            "[700]\ttraining's rmse: 3.52427\tvalid_1's rmse: 3.61945\n",
            "[800]\ttraining's rmse: 3.50986\tvalid_1's rmse: 3.61802\n",
            "[900]\ttraining's rmse: 3.49644\tvalid_1's rmse: 3.61698\n",
            "[1000]\ttraining's rmse: 3.48389\tvalid_1's rmse: 3.61653\n",
            "[1100]\ttraining's rmse: 3.47185\tvalid_1's rmse: 3.61611\n",
            "[1200]\ttraining's rmse: 3.46009\tvalid_1's rmse: 3.61611\n",
            "[1300]\ttraining's rmse: 3.44969\tvalid_1's rmse: 3.61589\n",
            "[1400]\ttraining's rmse: 3.4394\tvalid_1's rmse: 3.61559\n",
            "[1500]\ttraining's rmse: 3.42864\tvalid_1's rmse: 3.6154\n",
            "[1600]\ttraining's rmse: 3.41914\tvalid_1's rmse: 3.61535\n",
            "[1700]\ttraining's rmse: 3.40923\tvalid_1's rmse: 3.61518\n",
            "[1800]\ttraining's rmse: 3.39944\tvalid_1's rmse: 3.61535\n",
            "[1900]\ttraining's rmse: 3.39047\tvalid_1's rmse: 3.6154\n",
            "Early stopping, best iteration is:\n",
            "[1726]\ttraining's rmse: 3.40662\tvalid_1's rmse: 3.61511\n",
            "fold n°2\n",
            "Training until validation scores don't improve for 200 rounds.\n",
            "[100]\ttraining's rmse: 3.73623\tvalid_1's rmse: 3.67988\n",
            "[200]\ttraining's rmse: 3.6645\tvalid_1's rmse: 3.63796\n",
            "[300]\ttraining's rmse: 3.62018\tvalid_1's rmse: 3.61903\n",
            "[400]\ttraining's rmse: 3.58863\tvalid_1's rmse: 3.60948\n",
            "[500]\ttraining's rmse: 3.56426\tvalid_1's rmse: 3.60385\n",
            "[600]\ttraining's rmse: 3.54416\tvalid_1's rmse: 3.60075\n",
            "[700]\ttraining's rmse: 3.52786\tvalid_1's rmse: 3.59828\n",
            "[800]\ttraining's rmse: 3.51264\tvalid_1's rmse: 3.59689\n",
            "[900]\ttraining's rmse: 3.49861\tvalid_1's rmse: 3.59632\n",
            "[1000]\ttraining's rmse: 3.48575\tvalid_1's rmse: 3.59553\n",
            "[1100]\ttraining's rmse: 3.47363\tvalid_1's rmse: 3.59501\n",
            "[1200]\ttraining's rmse: 3.46315\tvalid_1's rmse: 3.59443\n",
            "[1300]\ttraining's rmse: 3.45225\tvalid_1's rmse: 3.59431\n",
            "[1400]\ttraining's rmse: 3.44147\tvalid_1's rmse: 3.59415\n",
            "[1500]\ttraining's rmse: 3.431\tvalid_1's rmse: 3.59384\n",
            "[1600]\ttraining's rmse: 3.42119\tvalid_1's rmse: 3.59409\n",
            "[1700]\ttraining's rmse: 3.41246\tvalid_1's rmse: 3.59404\n",
            "Early stopping, best iteration is:\n",
            "[1507]\ttraining's rmse: 3.43034\tvalid_1's rmse: 3.59373\n",
            "fold n°3\n",
            "Training until validation scores don't improve for 200 rounds.\n",
            "[100]\ttraining's rmse: 3.68788\tvalid_1's rmse: 3.87952\n",
            "[200]\ttraining's rmse: 3.61807\tvalid_1's rmse: 3.83138\n",
            "[300]\ttraining's rmse: 3.57377\tvalid_1's rmse: 3.80774\n",
            "[400]\ttraining's rmse: 3.5424\tvalid_1's rmse: 3.79575\n",
            "[500]\ttraining's rmse: 3.51836\tvalid_1's rmse: 3.78937\n",
            "[600]\ttraining's rmse: 3.4989\tvalid_1's rmse: 3.78563\n",
            "[700]\ttraining's rmse: 3.48198\tvalid_1's rmse: 3.78371\n",
            "[800]\ttraining's rmse: 3.46693\tvalid_1's rmse: 3.78187\n",
            "[900]\ttraining's rmse: 3.45326\tvalid_1's rmse: 3.78121\n",
            "[1000]\ttraining's rmse: 3.44063\tvalid_1's rmse: 3.78062\n",
            "[1100]\ttraining's rmse: 3.42829\tvalid_1's rmse: 3.78014\n",
            "[1200]\ttraining's rmse: 3.41711\tvalid_1's rmse: 3.77985\n",
            "[1300]\ttraining's rmse: 3.40609\tvalid_1's rmse: 3.77979\n",
            "[1400]\ttraining's rmse: 3.39545\tvalid_1's rmse: 3.77995\n",
            "Early stopping, best iteration is:\n",
            "[1278]\ttraining's rmse: 3.40857\tvalid_1's rmse: 3.77962\n",
            "fold n°4\n",
            "Training until validation scores don't improve for 200 rounds.\n",
            "[100]\ttraining's rmse: 3.73283\tvalid_1's rmse: 3.69453\n",
            "[200]\ttraining's rmse: 3.66073\tvalid_1's rmse: 3.65261\n",
            "[300]\ttraining's rmse: 3.61565\tvalid_1's rmse: 3.63429\n",
            "[400]\ttraining's rmse: 3.58418\tvalid_1's rmse: 3.62524\n",
            "[500]\ttraining's rmse: 3.56071\tvalid_1's rmse: 3.62104\n",
            "[600]\ttraining's rmse: 3.54182\tvalid_1's rmse: 3.61823\n",
            "[700]\ttraining's rmse: 3.52607\tvalid_1's rmse: 3.61659\n",
            "[800]\ttraining's rmse: 3.51166\tvalid_1's rmse: 3.61562\n",
            "[900]\ttraining's rmse: 3.49841\tvalid_1's rmse: 3.61497\n",
            "[1000]\ttraining's rmse: 3.4849\tvalid_1's rmse: 3.61464\n",
            "[1100]\ttraining's rmse: 3.47258\tvalid_1's rmse: 3.61447\n",
            "[1200]\ttraining's rmse: 3.46127\tvalid_1's rmse: 3.61414\n",
            "[1300]\ttraining's rmse: 3.45068\tvalid_1's rmse: 3.61383\n",
            "[1400]\ttraining's rmse: 3.43952\tvalid_1's rmse: 3.61389\n",
            "[1500]\ttraining's rmse: 3.42914\tvalid_1's rmse: 3.61425\n",
            "Early stopping, best iteration is:\n",
            "[1328]\ttraining's rmse: 3.4477\tvalid_1's rmse: 3.6137\n",
            "CV score: 3.65532 \n"
          ],
          "name": "stdout"
        },
        {
          "output_type": "stream",
          "text": [
            "/usr/local/lib/python3.6/dist-packages/numpy/core/_methods.py:32: RuntimeWarning: overflow encountered in reduce\n",
            "  return umr_sum(a, axis, dtype, out, keepdims)\n"
          ],
          "name": "stderr"
        }
      ]
    },
    {
      "metadata": {
        "id": "vyyiw5wRIyTx",
        "colab_type": "code",
        "colab": {}
      },
      "cell_type": "code",
      "source": [
        ""
      ],
      "execution_count": 0,
      "outputs": []
    },
    {
      "metadata": {
        "id": "O9SApTcOyISS",
        "colab_type": "code",
        "colab": {}
      },
      "cell_type": "code",
      "source": [
        "new_merchant_transactions.info()"
      ],
      "execution_count": 0,
      "outputs": []
    },
    {
      "metadata": {
        "id": "xExchDvqEl5l",
        "colab_type": "code",
        "colab": {}
      },
      "cell_type": "code",
      "source": [
        "df = pd.merge(train, historical_transactions, on='card_id', how='left')"
      ],
      "execution_count": 0,
      "outputs": []
    },
    {
      "metadata": {
        "id": "ROWyEK1Mvf6C",
        "colab_type": "code",
        "colab": {}
      },
      "cell_type": "code",
      "source": [
        "merchants['most_recent_purchases_range'].value_counts()"
      ],
      "execution_count": 0,
      "outputs": []
    },
    {
      "metadata": {
        "id": "Reo-v3o_sa8H",
        "colab_type": "code",
        "colab": {}
      },
      "cell_type": "code",
      "source": [
        "merchants.info()"
      ],
      "execution_count": 0,
      "outputs": []
    },
    {
      "metadata": {
        "id": "kr_LcNdjJCxt",
        "colab_type": "code",
        "colab": {}
      },
      "cell_type": "code",
      "source": [
        ""
      ],
      "execution_count": 0,
      "outputs": []
    },
    {
      "metadata": {
        "id": "IObMF390pIGD",
        "colab_type": "code",
        "colab": {}
      },
      "cell_type": "code",
      "source": [
        ""
      ],
      "execution_count": 0,
      "outputs": []
    },
    {
      "metadata": {
        "id": "JXvRkX6Rbtcl",
        "colab_type": "code",
        "colab": {}
      },
      "cell_type": "code",
      "source": [
        ""
      ],
      "execution_count": 0,
      "outputs": []
    },
    {
      "metadata": {
        "id": "1t2DwYoIFTDb",
        "colab_type": "code",
        "colab": {}
      },
      "cell_type": "code",
      "source": [
        ""
      ],
      "execution_count": 0,
      "outputs": []
    },
    {
      "metadata": {
        "id": "pOak-_wQeCLo",
        "colab_type": "code",
        "colab": {}
      },
      "cell_type": "code",
      "source": [
        ""
      ],
      "execution_count": 0,
      "outputs": []
    },
    {
      "metadata": {
        "id": "uO4Uwk0qeCzs",
        "colab_type": "code",
        "colab": {}
      },
      "cell_type": "code",
      "source": [
        ""
      ],
      "execution_count": 0,
      "outputs": []
    },
    {
      "metadata": {
        "id": "PwEBRgQweEXE",
        "colab_type": "code",
        "colab": {}
      },
      "cell_type": "code",
      "source": [
        "train.shape"
      ],
      "execution_count": 0,
      "outputs": []
    },
    {
      "metadata": {
        "id": "Z8ZAnsoGme3m",
        "colab_type": "code",
        "colab": {}
      },
      "cell_type": "code",
      "source": [
        ""
      ],
      "execution_count": 0,
      "outputs": []
    }
  ]
}