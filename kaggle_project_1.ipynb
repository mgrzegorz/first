{
  "nbformat": 4,
  "nbformat_minor": 0,
  "metadata": {
    "colab": {
      "name": "kaggle_project_1.ipynb",
      "version": "0.3.2",
      "provenance": [],
      "collapsed_sections": []
    },
    "kernelspec": {
      "name": "python3",
      "display_name": "Python 3"
    }
  },
  "cells": [
    {
      "metadata": {
        "id": "WEts5fIsdK_a",
        "colab_type": "text"
      },
      "cell_type": "markdown",
      "source": [
        "## Mounting Google Drive"
      ]
    },
    {
      "metadata": {
        "id": "eqsxOlFVc-tg",
        "colab_type": "code",
        "colab": {}
      },
      "cell_type": "code",
      "source": [
        "from google.colab import drive\n",
        "drive.mount('/content/gdrive')\n",
        "import pandas as pd\n",
        "import os"
      ],
      "execution_count": 0,
      "outputs": []
    },
    {
      "metadata": {
        "id": "4wU-bEwSdeGF",
        "colab_type": "code",
        "colab": {}
      },
      "cell_type": "code",
      "source": [
        "# zmiana working directory\n",
        "# os.chdir(\"/content/gdrive/My Drive/Data/Elo/\")"
      ],
      "execution_count": 0,
      "outputs": []
    },
    {
      "metadata": {
        "id": "C9bEXDuAmCGv",
        "colab_type": "code",
        "colab": {}
      },
      "cell_type": "code",
      "source": [
        "# sprawdzenie procesora ale jak to czytać?\n",
        "!cat /proc/cpuinfo"
      ],
      "execution_count": 0,
      "outputs": []
    },
    {
      "metadata": {
        "id": "Kj6b_3U0W1FW",
        "colab_type": "code",
        "colab": {}
      },
      "cell_type": "code",
      "source": [
        "#sprawdzenie ramu, ale jak to czytać?\n",
        "!cat /proc/meminfo"
      ],
      "execution_count": 0,
      "outputs": []
    },
    {
      "metadata": {
        "id": "SX2Q6coVf1sM",
        "colab_type": "code",
        "colab": {}
      },
      "cell_type": "code",
      "source": [
        "!pip install -U -q kaggle\n",
        "!mkdir -p ~/.kaggle"
      ],
      "execution_count": 0,
      "outputs": []
    },
    {
      "metadata": {
        "id": "IU-glxh2hJ6q",
        "colab_type": "code",
        "colab": {}
      },
      "cell_type": "code",
      "source": [
        "from google.colab import files\n",
        "files.upload()"
      ],
      "execution_count": 0,
      "outputs": []
    },
    {
      "metadata": {
        "id": "FBurfMMEhnsP",
        "colab_type": "code",
        "colab": {}
      },
      "cell_type": "code",
      "source": [
        "!cp kaggle.json ~/.kaggle/"
      ],
      "execution_count": 0,
      "outputs": []
    },
    {
      "metadata": {
        "id": "Xo09Sn8Yknoi",
        "colab_type": "code",
        "colab": {}
      },
      "cell_type": "code",
      "source": [
        "!chmod 600 /root/.kaggle/kaggle.json"
      ],
      "execution_count": 0,
      "outputs": []
    },
    {
      "metadata": {
        "id": "h-NF_nXoiATm",
        "colab_type": "code",
        "outputId": "917597e3-5a46-4037-c07f-6defdccb0e1a",
        "colab": {
          "base_uri": "https://localhost:8080/",
          "height": 382
        }
      },
      "cell_type": "code",
      "source": [
        "!kaggle competitions download -c elo-merchant-category-recommendation -p /content/gdrive/My\\ Drive/Data"
      ],
      "execution_count": 0,
      "outputs": [
        {
          "output_type": "stream",
          "text": [
            "Downloading historical_transactions.csv.zip to /content/gdrive/My Drive/Data\n",
            " 99% 532M/538M [00:05<00:00, 112MB/s] \n",
            "100% 538M/538M [00:05<00:00, 103MB/s]\n",
            "Downloading merchants.csv.zip to /content/gdrive/My Drive/Data\n",
            " 82% 10.0M/12.2M [00:00<00:00, 99.6MB/s]\n",
            "100% 12.2M/12.2M [00:00<00:00, 105MB/s] \n",
            "Downloading new_merchant_transactions.csv.zip to /content/gdrive/My Drive/Data\n",
            " 84% 41.0M/48.9M [00:00<00:00, 101MB/s] \n",
            "100% 48.9M/48.9M [00:00<00:00, 134MB/s]\n",
            "Downloading sample_submission.csv.zip to /content/gdrive/My Drive/Data\n",
            "  0% 0.00/838k [00:00<?, ?B/s]\n",
            "100% 838k/838k [00:00<00:00, 78.3MB/s]\n",
            "Downloading test.csv.zip to /content/gdrive/My Drive/Data\n",
            "  0% 0.00/1.09M [00:00<?, ?B/s]\n",
            "100% 1.09M/1.09M [00:00<00:00, 97.9MB/s]\n",
            "Downloading train.csv.zip to /content/gdrive/My Drive/Data\n",
            "  0% 0.00/2.93M [00:00<?, ?B/s]\n",
            "100% 2.93M/2.93M [00:00<00:00, 122MB/s]\n",
            "Downloading Data_Dictionary.xlsx to /content/gdrive/My Drive/Data\n",
            "  0% 0.00/17.2k [00:00<?, ?B/s]\n",
            "100% 17.2k/17.2k [00:00<00:00, 3.44MB/s]\n"
          ],
          "name": "stdout"
        }
      ]
    },
    {
      "metadata": {
        "id": "xXYCLGqNl81T",
        "colab_type": "code",
        "colab": {}
      },
      "cell_type": "code",
      "source": [
        "merchants = pd.read_csv(\"/content/gdrive/My Drive/Data/Elo/merchants.csv\")\n",
        "new_mechant_trans = pd.read_csv(\"/content/gdrive/My Drive/Data/Elo/new_merchant_transactions.csv\")\n",
        "hist_trans = pd.read_csv(\"/content/gdrive/My Drive/Data/Elo/historical_transactions.csv\")\n",
        "train = pd.read_csv(\"/content/gdrive/My Drive/Data/Elo/train.csv\")"
      ],
      "execution_count": 0,
      "outputs": []
    },
    {
      "metadata": {
        "id": "JtmlS2MOZ4Hn",
        "colab_type": "code",
        "colab": {
          "base_uri": "https://localhost:8080/",
          "height": 34
        },
        "outputId": "31843413-0480-4dbf-be25-00c1c360055b"
      },
      "cell_type": "code",
      "source": [
        "mechants.shape"
      ],
      "execution_count": 63,
      "outputs": [
        {
          "output_type": "execute_result",
          "data": {
            "text/plain": [
              "(334696, 22)"
            ]
          },
          "metadata": {
            "tags": []
          },
          "execution_count": 63
        }
      ]
    },
    {
      "metadata": {
        "id": "pOak-_wQeCLo",
        "colab_type": "code",
        "colab": {
          "base_uri": "https://localhost:8080/",
          "height": 34
        },
        "outputId": "b1aad0dd-1bf6-4747-da86-0b568b95c675"
      },
      "cell_type": "code",
      "source": [
        "new_mechant_trans.shape"
      ],
      "execution_count": 64,
      "outputs": [
        {
          "output_type": "execute_result",
          "data": {
            "text/plain": [
              "(1963031, 14)"
            ]
          },
          "metadata": {
            "tags": []
          },
          "execution_count": 64
        }
      ]
    },
    {
      "metadata": {
        "id": "uO4Uwk0qeCzs",
        "colab_type": "code",
        "colab": {
          "base_uri": "https://localhost:8080/",
          "height": 34
        },
        "outputId": "395a3dca-bc32-4a8a-9762-cf01de5bee5c"
      },
      "cell_type": "code",
      "source": [
        "hist_trans.shape"
      ],
      "execution_count": 66,
      "outputs": [
        {
          "output_type": "execute_result",
          "data": {
            "text/plain": [
              "(29112361, 14)"
            ]
          },
          "metadata": {
            "tags": []
          },
          "execution_count": 66
        }
      ]
    },
    {
      "metadata": {
        "id": "PwEBRgQweEXE",
        "colab_type": "code",
        "colab": {
          "base_uri": "https://localhost:8080/",
          "height": 34
        },
        "outputId": "579568b7-4687-4caa-863f-259979bc95c5"
      },
      "cell_type": "code",
      "source": [
        "train.shape"
      ],
      "execution_count": 67,
      "outputs": [
        {
          "output_type": "execute_result",
          "data": {
            "text/plain": [
              "(201917, 6)"
            ]
          },
          "metadata": {
            "tags": []
          },
          "execution_count": 67
        }
      ]
    },
    {
      "metadata": {
        "id": "Z8ZAnsoGme3m",
        "colab_type": "code",
        "colab": {}
      },
      "cell_type": "code",
      "source": [
        ""
      ],
      "execution_count": 0,
      "outputs": []
    }
  ]
}