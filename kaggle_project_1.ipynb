{
  "nbformat": 4,
  "nbformat_minor": 0,
  "metadata": {
    "colab": {
      "name": "kaggle_project_1.ipynb",
      "version": "0.3.2",
      "provenance": [],
      "collapsed_sections": []
    },
    "kernelspec": {
      "name": "python3",
      "display_name": "Python 3"
    }
  },
  "cells": [
    {
      "metadata": {
        "id": "WEts5fIsdK_a",
        "colab_type": "text"
      },
      "cell_type": "markdown",
      "source": [
        "## Mounting Google Drive"
      ]
    },
    {
      "metadata": {
        "id": "eqsxOlFVc-tg",
        "colab_type": "code",
        "colab": {}
      },
      "cell_type": "code",
      "source": [
        "from google.colab import drive\n",
        "drive.mount('/content/gdrive')"
      ],
      "execution_count": 0,
      "outputs": []
    },
    {
      "metadata": {
        "id": "Dulrk-cddp4T",
        "colab_type": "code",
        "colab": {}
      },
      "cell_type": "code",
      "source": [
        "!ls \"/content/gdrive/My Drive/Colab Notebooks\""
      ],
      "execution_count": 0,
      "outputs": []
    },
    {
      "metadata": {
        "id": "cqJusPlufG8B",
        "colab_type": "code",
        "colab": {}
      },
      "cell_type": "code",
      "source": [
        "!mkdir \"/content/gdrive/My Drive/Data\""
      ],
      "execution_count": 0,
      "outputs": []
    },
    {
      "metadata": {
        "id": "SX2Q6coVf1sM",
        "colab_type": "code",
        "colab": {}
      },
      "cell_type": "code",
      "source": [
        "!pip install -U -q kaggle\n",
        "!mkdir -p ~/.kaggle"
      ],
      "execution_count": 0,
      "outputs": []
    },
    {
      "metadata": {
        "id": "IU-glxh2hJ6q",
        "colab_type": "code",
        "colab": {}
      },
      "cell_type": "code",
      "source": [
        "from google.colab import files\n",
        "files.upload()"
      ],
      "execution_count": 0,
      "outputs": []
    },
    {
      "metadata": {
        "id": "FBurfMMEhnsP",
        "colab_type": "code",
        "colab": {}
      },
      "cell_type": "code",
      "source": [
        "!cp kaggle.json ~/.kaggle/"
      ],
      "execution_count": 0,
      "outputs": []
    },
    {
      "metadata": {
        "id": "Xo09Sn8Yknoi",
        "colab_type": "code",
        "colab": {}
      },
      "cell_type": "code",
      "source": [
        "!chmod 600 /root/.kaggle/kaggle.json"
      ],
      "execution_count": 0,
      "outputs": []
    },
    {
      "metadata": {
        "id": "h-NF_nXoiATm",
        "colab_type": "code",
        "colab": {
          "base_uri": "https://localhost:8080/",
          "height": 382
        },
        "outputId": "917597e3-5a46-4037-c07f-6defdccb0e1a"
      },
      "cell_type": "code",
      "source": [
        "!kaggle competitions download -c elo-merchant-category-recommendation -p /content/gdrive/My\\ Drive/Data"
      ],
      "execution_count": 57,
      "outputs": [
        {
          "output_type": "stream",
          "text": [
            "Downloading historical_transactions.csv.zip to /content/gdrive/My Drive/Data\n",
            " 99% 532M/538M [00:05<00:00, 112MB/s] \n",
            "100% 538M/538M [00:05<00:00, 103MB/s]\n",
            "Downloading merchants.csv.zip to /content/gdrive/My Drive/Data\n",
            " 82% 10.0M/12.2M [00:00<00:00, 99.6MB/s]\n",
            "100% 12.2M/12.2M [00:00<00:00, 105MB/s] \n",
            "Downloading new_merchant_transactions.csv.zip to /content/gdrive/My Drive/Data\n",
            " 84% 41.0M/48.9M [00:00<00:00, 101MB/s] \n",
            "100% 48.9M/48.9M [00:00<00:00, 134MB/s]\n",
            "Downloading sample_submission.csv.zip to /content/gdrive/My Drive/Data\n",
            "  0% 0.00/838k [00:00<?, ?B/s]\n",
            "100% 838k/838k [00:00<00:00, 78.3MB/s]\n",
            "Downloading test.csv.zip to /content/gdrive/My Drive/Data\n",
            "  0% 0.00/1.09M [00:00<?, ?B/s]\n",
            "100% 1.09M/1.09M [00:00<00:00, 97.9MB/s]\n",
            "Downloading train.csv.zip to /content/gdrive/My Drive/Data\n",
            "  0% 0.00/2.93M [00:00<?, ?B/s]\n",
            "100% 2.93M/2.93M [00:00<00:00, 122MB/s]\n",
            "Downloading Data_Dictionary.xlsx to /content/gdrive/My Drive/Data\n",
            "  0% 0.00/17.2k [00:00<?, ?B/s]\n",
            "100% 17.2k/17.2k [00:00<00:00, 3.44MB/s]\n"
          ],
          "name": "stdout"
        }
      ]
    },
    {
      "metadata": {
        "id": "xXYCLGqNl81T",
        "colab_type": "code",
        "colab": {
          "base_uri": "https://localhost:8080/",
          "height": 34
        },
        "outputId": "0e969331-a624-49d2-d372-1b7b9705b89b"
      },
      "cell_type": "code",
      "source": [
        "!cd /content/gdrive/My\\ Drive/Data\n",
        "!dir "
      ],
      "execution_count": 74,
      "outputs": [
        {
          "output_type": "stream",
          "text": [
            "My\\ Drive\n"
          ],
          "name": "stdout"
        }
      ]
    },
    {
      "metadata": {
        "id": "C9bEXDuAmCGv",
        "colab_type": "code",
        "colab": {}
      },
      "cell_type": "code",
      "source": [
        "import pandas as pd"
      ],
      "execution_count": 0,
      "outputs": []
    },
    {
      "metadata": {
        "id": "Z8ZAnsoGme3m",
        "colab_type": "code",
        "colab": {}
      },
      "cell_type": "code",
      "source": [
        ""
      ],
      "execution_count": 0,
      "outputs": []
    }
  ]
}