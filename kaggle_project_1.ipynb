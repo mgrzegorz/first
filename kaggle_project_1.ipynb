{
  "nbformat": 4,
  "nbformat_minor": 0,
  "metadata": {
    "colab": {
      "name": "kaggle_project_1.ipynb",
      "version": "0.3.2",
      "provenance": [],
      "collapsed_sections": []
    },
    "kernelspec": {
      "name": "python3",
      "display_name": "Python 3"
    }
  },
  "cells": [
    {
      "metadata": {
        "id": "WEts5fIsdK_a",
        "colab_type": "text"
      },
      "cell_type": "markdown",
      "source": [
        "## Mounting Google Drive"
      ]
    },
    {
      "metadata": {
        "id": "eqsxOlFVc-tg",
        "colab_type": "code",
        "outputId": "fac1978b-c3ba-40b3-9216-6d2d4be47031",
        "colab": {
          "base_uri": "https://localhost:8080/",
          "height": 34
        }
      },
      "cell_type": "code",
      "source": [
        "from google.colab import drive\n",
        "drive.mount('/content/gdrive')\n"
      ],
      "execution_count": 1,
      "outputs": [
        {
          "output_type": "stream",
          "text": [
            "Drive already mounted at /content/gdrive; to attempt to forcibly remount, call drive.mount(\"/content/gdrive\", force_remount=True).\n"
          ],
          "name": "stdout"
        }
      ]
    },
    {
      "metadata": {
        "id": "sM7BsMGBDikg",
        "colab_type": "code",
        "colab": {}
      },
      "cell_type": "code",
      "source": [
        "import numpy as np\n",
        "import pandas as pd\n",
        "import os"
      ],
      "execution_count": 0,
      "outputs": []
    },
    {
      "metadata": {
        "id": "4wU-bEwSdeGF",
        "colab_type": "code",
        "colab": {}
      },
      "cell_type": "code",
      "source": [
        "# zmiana working directory\n",
        "os.chdir(\"/content/gdrive/My Drive/Data/Elo/\")"
      ],
      "execution_count": 0,
      "outputs": []
    },
    {
      "metadata": {
        "id": "C9bEXDuAmCGv",
        "colab_type": "code",
        "colab": {}
      },
      "cell_type": "code",
      "source": [
        "# sprawdzenie procesora ale jak to czytać?\n",
        "!cat /proc/cpuinfo"
      ],
      "execution_count": 0,
      "outputs": []
    },
    {
      "metadata": {
        "id": "Kj6b_3U0W1FW",
        "colab_type": "code",
        "colab": {}
      },
      "cell_type": "code",
      "source": [
        "#sprawdzenie ramu, ale jak to czytać?\n",
        "!cat /proc/meminfo"
      ],
      "execution_count": 0,
      "outputs": []
    },
    {
      "metadata": {
        "id": "SX2Q6coVf1sM",
        "colab_type": "code",
        "colab": {}
      },
      "cell_type": "code",
      "source": [
        "!pip install -U -q kaggle\n",
        "!mkdir -p ~/.kaggle"
      ],
      "execution_count": 0,
      "outputs": []
    },
    {
      "metadata": {
        "id": "IU-glxh2hJ6q",
        "colab_type": "code",
        "colab": {}
      },
      "cell_type": "code",
      "source": [
        "from google.colab import files\n",
        "files.upload()"
      ],
      "execution_count": 0,
      "outputs": []
    },
    {
      "metadata": {
        "id": "FBurfMMEhnsP",
        "colab_type": "code",
        "colab": {}
      },
      "cell_type": "code",
      "source": [
        "!cp kaggle.json ~/.kaggle/"
      ],
      "execution_count": 0,
      "outputs": []
    },
    {
      "metadata": {
        "id": "Xo09Sn8Yknoi",
        "colab_type": "code",
        "colab": {}
      },
      "cell_type": "code",
      "source": [
        "!chmod 600 /root/.kaggle/kaggle.json"
      ],
      "execution_count": 0,
      "outputs": []
    },
    {
      "metadata": {
        "id": "h-NF_nXoiATm",
        "colab_type": "code",
        "outputId": "60a85d89-dca6-487c-ff39-83815b0e58a2",
        "colab": {
          "base_uri": "https://localhost:8080/",
          "height": 34
        }
      },
      "cell_type": "code",
      "source": [
        "!kaggle competitions download -c elo-merchant-category-recommendation -p /content/gdrive/My\\ Drive/Data"
      ],
      "execution_count": 0,
      "outputs": [
        {
          "output_type": "stream",
          "text": [
            "/bin/bash: kaggle: command not found\n"
          ],
          "name": "stdout"
        }
      ]
    },
    {
      "metadata": {
        "id": "JtmlS2MOZ4Hn",
        "colab_type": "code",
        "colab": {}
      },
      "cell_type": "code",
      "source": [
        "merchants_types = {\n",
        " 'merchant_group_id': 'uint32',\n",
        " 'merchant_category_id':'int16',\n",
        " 'city_id': 'int16',\n",
        " 'state_id': 'int8',\n",
        " 'subsector_id': 'int8',\n",
        " 'numerical_1': 'float16',\n",
        " 'numerical_2': 'float16',\n",
        " 'category_1': 'category', #bool_,\n",
        " 'category_2': 'category',\n",
        " 'category_4': 'category',   \n",
        " 'most_recent_sales_range': 'category',\n",
        " 'most_recent_purchases_range': 'category',\n",
        " 'avg_sales_lag3': 'float32',\n",
        " 'avg_purchases_lag3': 'float32',\n",
        " 'active_months_lag3': 'float16',\n",
        " 'avg_sales_lag6': 'float32',\n",
        " 'avg_purchases_lag6': 'float32',\n",
        " 'active_months_lag6': 'float16',\n",
        " 'avg_sales_lag12': 'float32',\n",
        " 'avg_purchases_lag12': 'float32',\n",
        " 'active_months_lag12': 'float16'\n",
        " }\n",
        "types_new_merchant_transactions ={\n",
        "    'card_id':'object',\n",
        "    'authorized_flag':'category',\n",
        "    'city_id': 'int16',\n",
        "    'state_id': 'int8',    \n",
        "    'subsector_id': 'int8',\n",
        "    'category_1': 'category',\n",
        "    'category_2': 'category',\n",
        "    'category_3': 'category',\n",
        "    'installments': 'int16',\n",
        "    'merchant_category_id': 'int16',\n",
        "    'month_lag': 'uint8', #1,2 \n",
        "    'purchase_amount': 'float16',\n",
        "    'purchase_date': 'object'}"
      ],
      "execution_count": 0,
      "outputs": []
    },
    {
      "metadata": {
        "id": "xXYCLGqNl81T",
        "colab_type": "code",
        "colab": {}
      },
      "cell_type": "code",
      "source": [
        "#merchants = pd.read_csv(\"merchants.csv\", index_col='merchant_id', dtype = merchants_types)\n",
        "#new_merchant_transactions = pd.read_csv(\"new_merchant_transactions.csv\", index_col = 'merchant_id', dtype=types_new_merchant_transactions)\n",
        "hist_trans = pd.read_csv(\"historical_transactions.csv\")\n",
        "#train = pd.read_csv(\"train.csv\")"
      ],
      "execution_count": 0,
      "outputs": []
    },
    {
      "metadata": {
        "id": "xExchDvqEl5l",
        "colab_type": "code",
        "colab": {
          "base_uri": "https://localhost:8080/",
          "height": 330
        },
        "outputId": "e3888bb1-034c-44e0-a4a9-e77cb27f175e"
      },
      "cell_type": "code",
      "source": [
        "new_merchant_transactions.info()\n"
      ],
      "execution_count": 117,
      "outputs": [
        {
          "output_type": "stream",
          "text": [
            "<class 'pandas.core.frame.DataFrame'>\n",
            "Index: 1963031 entries, M_ID_b0c793002c to M_ID_d855771cd9\n",
            "Data columns (total 13 columns):\n",
            "authorized_flag         category\n",
            "card_id                 object\n",
            "city_id                 int16\n",
            "category_1              category\n",
            "installments            int16\n",
            "category_3              category\n",
            "merchant_category_id    int16\n",
            "month_lag               uint8\n",
            "purchase_amount         float16\n",
            "purchase_date           object\n",
            "category_2              category\n",
            "state_id                int8\n",
            "subsector_id            int8\n",
            "dtypes: category(4), float16(1), int16(3), int8(2), object(2), uint8(1)\n",
            "memory usage: 73.0+ MB\n"
          ],
          "name": "stdout"
        }
      ]
    },
    {
      "metadata": {
        "id": "kr_LcNdjJCxt",
        "colab_type": "code",
        "colab": {
          "base_uri": "https://localhost:8080/",
          "height": 34
        },
        "outputId": "caed6f3a-f62b-4a53-a8e2-05f587fc1aac"
      },
      "cell_type": "code",
      "source": [
        "np.finfo(np.float16).max"
      ],
      "execution_count": 57,
      "outputs": [
        {
          "output_type": "execute_result",
          "data": {
            "text/plain": [
              "65500.0"
            ]
          },
          "metadata": {
            "tags": []
          },
          "execution_count": 57
        }
      ]
    },
    {
      "metadata": {
        "id": "1t2DwYoIFTDb",
        "colab_type": "code",
        "colab": {}
      },
      "cell_type": "code",
      "source": [
        "new_merchant_transactions['purchase_date'] = pd.to_datetime(new_merchant_transactions['purchase_date'], unit='ns')"
      ],
      "execution_count": 0,
      "outputs": []
    },
    {
      "metadata": {
        "id": "U15NyzqWSgMY",
        "colab_type": "code",
        "colab": {
          "base_uri": "https://localhost:8080/",
          "height": 330
        },
        "outputId": "8b3193c2-7926-4f6c-bf3c-209ef5e6d1b7"
      },
      "cell_type": "code",
      "source": [
        "new_merchant_transactions.info()"
      ],
      "execution_count": 124,
      "outputs": [
        {
          "output_type": "stream",
          "text": [
            "<class 'pandas.core.frame.DataFrame'>\n",
            "Index: 1963031 entries, M_ID_b0c793002c to M_ID_d855771cd9\n",
            "Data columns (total 13 columns):\n",
            "authorized_flag         category\n",
            "card_id                 object\n",
            "city_id                 int16\n",
            "category_1              category\n",
            "installments            int16\n",
            "category_3              category\n",
            "merchant_category_id    int16\n",
            "month_lag               uint8\n",
            "purchase_amount         float16\n",
            "purchase_date           datetime64[ns]\n",
            "category_2              category\n",
            "state_id                int8\n",
            "subsector_id            int8\n",
            "dtypes: category(4), datetime64[ns](1), float16(1), int16(3), int8(2), object(1), uint8(1)\n",
            "memory usage: 113.0+ MB\n"
          ],
          "name": "stdout"
        }
      ]
    },
    {
      "metadata": {
        "id": "pOak-_wQeCLo",
        "colab_type": "code",
        "colab": {}
      },
      "cell_type": "code",
      "source": [
        "types_new_merchant_transactions ={\n",
        "    'card_id':'object',\n",
        "    'authorized_flag':'category',\n",
        "    'city_id': 'int16',\n",
        "    'state_id': 'int8',    \n",
        "    'subsector_id': 'int8',\n",
        "    'category_1': 'category',\n",
        "    'category_2': 'category',\n",
        "    'category_3': 'category',\n",
        "    'installments': 'int16',\n",
        "    'merchant_category_id': 'int16',\n",
        "    'month_lag': 'uint8', #1,2 \n",
        "    'purchase_amount': 'float16',\n",
        "    'purchase_date': 'object'}"
      ],
      "execution_count": 0,
      "outputs": []
    },
    {
      "metadata": {
        "id": "uO4Uwk0qeCzs",
        "colab_type": "code",
        "outputId": "be4784f2-2bf9-4683-a43c-5ae1a8f90e2f",
        "colab": {
          "base_uri": "https://localhost:8080/",
          "height": 34
        }
      },
      "cell_type": "code",
      "source": [
        "hist_trans.shape"
      ],
      "execution_count": 0,
      "outputs": [
        {
          "output_type": "execute_result",
          "data": {
            "text/plain": [
              "(29112361, 14)"
            ]
          },
          "metadata": {
            "tags": []
          },
          "execution_count": 12
        }
      ]
    },
    {
      "metadata": {
        "id": "PwEBRgQweEXE",
        "colab_type": "code",
        "outputId": "75d117cc-db67-4f30-9524-0fbfebb33480",
        "colab": {
          "base_uri": "https://localhost:8080/",
          "height": 34
        }
      },
      "cell_type": "code",
      "source": [
        "train.shape"
      ],
      "execution_count": 0,
      "outputs": [
        {
          "output_type": "execute_result",
          "data": {
            "text/plain": [
              "(201917, 6)"
            ]
          },
          "metadata": {
            "tags": []
          },
          "execution_count": 13
        }
      ]
    },
    {
      "metadata": {
        "id": "Z8ZAnsoGme3m",
        "colab_type": "code",
        "colab": {}
      },
      "cell_type": "code",
      "source": [
        ""
      ],
      "execution_count": 0,
      "outputs": []
    }
  ]
}